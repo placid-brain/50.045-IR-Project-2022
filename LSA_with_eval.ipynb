{
  "cells": [
    {
      "cell_type": "markdown",
      "metadata": {
        "id": "view-in-github",
        "colab_type": "text"
      },
      "source": [
        "<a href=\"https://colab.research.google.com/github/placid-brain/50.045-IR-Project-2022/blob/main/LSA_with_eval.ipynb\" target=\"_parent\"><img src=\"https://colab.research.google.com/assets/colab-badge.svg\" alt=\"Open In Colab\"/></a>"
      ]
    },
    {
      "cell_type": "code",
      "source": [
        "from google.colab import drive\n",
        "drive.mount('/content/drive')"
      ],
      "metadata": {
        "colab": {
          "base_uri": "https://localhost:8080/"
        },
        "id": "XCPwQRMC905R",
        "outputId": "52146ed9-3624-451f-92a9-8c538c132b1d"
      },
      "execution_count": null,
      "outputs": [
        {
          "output_type": "stream",
          "name": "stdout",
          "text": [
            "Mounted at /content/drive\n"
          ]
        }
      ]
    },
    {
      "cell_type": "code",
      "execution_count": null,
      "metadata": {
        "colab": {
          "base_uri": "https://localhost:8080/"
        },
        "id": "6RGgEVXu7739",
        "outputId": "706565de-a798-44d6-ce5c-954d27a90cd9"
      },
      "outputs": [
        {
          "output_type": "stream",
          "name": "stderr",
          "text": [
            "[nltk_data] Downloading package stopwords to /root/nltk_data...\n",
            "[nltk_data]   Package stopwords is already up-to-date!\n",
            "[nltk_data] Downloading package punkt to /root/nltk_data...\n",
            "[nltk_data]   Package punkt is already up-to-date!\n"
          ]
        }
      ],
      "source": [
        "from sklearn.feature_extraction.text import TfidfVectorizer\n",
        "import numpy as np\n",
        "import nltk\n",
        "nltk.download('stopwords')\n",
        "nltk.download('punkt')\n",
        "from nltk.corpus import stopwords\n",
        "from nltk.tokenize import word_tokenize\n",
        "import copy\n",
        "sw = set(stopwords.words('english'))\n",
        "import pandas as pd\n",
        "import time"
      ]
    },
    {
      "cell_type": "code",
      "execution_count": null,
      "metadata": {
        "id": "rwXFd13M774C"
      },
      "outputs": [],
      "source": [
        "df1 = pd.read_csv('drive/My Drive/IR/Info Retrieval Group Project/recipes_w_search_terms.csv', nrows=1000)\n",
        "\n",
        "def function(ini_list):\n",
        "    new_cell = ini_list.strip('][').split(', ')\n",
        "    for item in new_cell:\n",
        "        item = item.replace(\"'\",\"\")\n",
        "    return new_cell\n",
        "\n",
        "df1['ingredients'] = df1['ingredients'].apply(function)\n",
        "\n",
        "\n",
        "df2 = df1[['id', 'name','ingredients','steps']]\n",
        "#print(df2.head())\n",
        "\n",
        "ingredients = df2['ingredients'].tolist()\n",
        "\n",
        "new_lst =  [' '.join(i) for i in ingredients]\n",
        "\n",
        "tfvec = TfidfVectorizer()\n",
        "# turning ingredients-dishes(doc id) into tf-df vector\n",
        "tdf = tfvec.fit_transform(new_lst).T\n",
        "# singular value decomposition\n",
        "[dc,cs,tc] = np.linalg.svd(tdf.toarray(), full_matrices=False)\n",
        "\n",
        "\n"
      ]
    },
    {
      "cell_type": "code",
      "execution_count": null,
      "metadata": {
        "id": "jH2nYA3V774D"
      },
      "outputs": [],
      "source": [
        "class LSA:\n",
        "    def __init__(self):\n",
        "        pass\n",
        "    def query_vector_gen(self,q_list):\n",
        "        # turning query into tf-idf vector\n",
        "        q = tfvec.transform(q_list)\n",
        "        q = q.toarray()\n",
        "        # mapping query vector to document-concept matrix and eventually concept strength matrix\n",
        "        q_dc = np.matmul(q,dc)\n",
        "        q_dc__s = np.matmul(q_dc,np.linalg.inv(np.diag(cs)))\n",
        "        return q_dc__s\n",
        "    \n",
        "    def search(self, query):\n",
        "        query = query.lower()\n",
        "        \n",
        "        query_tokens = word_tokenize(query)\n",
        "        q_list = []\n",
        "\n",
        "        for w in query_tokens:\n",
        "            if w not in sw:\n",
        "                q_list.append(w)\n",
        "        res = \" \".join(q_list)\n",
        "        final_list =[]\n",
        "        final_list.append(res)\n",
        "        \n",
        "\n",
        "        result = self.query_vector_gen(final_list)\n",
        "        \n",
        "        lst = []\n",
        "\n",
        "        for arr in range(len(tc)):\n",
        "            # mapping resultant vector to term-concept matrix\n",
        "            lst.append(np.dot(result,tc[:,arr]))\n",
        "        \n",
        "        temp_lst = copy.deepcopy(lst)\n",
        "        desc_lst = sorted(lst,reverse=True)[0:5]\n",
        "        docs_lst = []\n",
        "        for i in range(len(desc_lst)):\n",
        "            docs_lst.append(temp_lst.index(desc_lst[i]))\n",
        "            # print(\"{}. {}\".format(i+1, df2[\"name\"][temp_lst.index(desc_lst[i])]))\n",
        "        return docs_lst\n",
        "\n",
        "  "
      ]
    },
    {
      "cell_type": "code",
      "execution_count": null,
      "metadata": {
        "colab": {
          "base_uri": "https://localhost:8080/"
        },
        "id": "oy77fIvj774E",
        "outputId": "4b7e81fe-0c07-41ba-aef6-1413609b0446"
      },
      "outputs": [
        {
          "output_type": "stream",
          "name": "stdout",
          "text": [
            "red onions extra virgin olive oil balsamic vinegar\n",
            "1. Balsamic Glazed Onions\n",
            "2. The Best Soft and Chewy Sugar Cookies You Will Ever Make!!\n",
            "3. Grandmother's Cheesecake\n",
            "4. Egyptian Red Lentils&rsquo; Fattah\n",
            "5. Beef Stew With Dried Cherries\n"
          ]
        }
      ],
      "source": [
        "\n",
        "lsa = LSA()\n",
        "start = time.time()\n",
        "query = 'red onions extra virgin olive oil balsamic vinegar'\n",
        "print(query)\n",
        "for idx, i in enumerate(lsa.search(query)):\n",
        "  print(\"{}. {}\".format(idx+1, df2[\"name\"][i]))\n",
        "end = time.time()"
      ]
    },
    {
      "cell_type": "code",
      "execution_count": null,
      "metadata": {
        "colab": {
          "base_uri": "https://localhost:8080/"
        },
        "id": "CORT0SxD774E",
        "outputId": "ce617032-1212-47f9-8396-294d93b670db"
      },
      "outputs": [
        {
          "output_type": "stream",
          "name": "stdout",
          "text": [
            "Time taken:  0.28398966789245605\n"
          ]
        }
      ],
      "source": [
        "print(\"Time taken: \", end-start)"
      ]
    },
    {
      "cell_type": "code",
      "execution_count": null,
      "metadata": {
        "id": "QaYzgvj_774F"
      },
      "outputs": [],
      "source": [
        ""
      ]
    },
    {
      "cell_type": "markdown",
      "source": [
        "## Evaluation"
      ],
      "metadata": {
        "id": "xKo-a0tL8BH5"
      }
    },
    {
      "cell_type": "code",
      "source": [
        "relevance_dict={\n",
        "    \"red onions extra virgin olive oil balsamic vinegar\":[0,15,1],\n",
        "    \n",
        "    'butter mushrooms flour port wine':[0,15,1],\n",
        "    \n",
        "    \"red onions extra virgin olive oil balsamic vinegar\":[2,13,14,15],\n",
        "    \n",
        "    'vegetable oil unsweetened applesauce eggs vanilla nuts':[9,7,4,8],\n",
        "    \n",
        "    'olive oil onion garlic cloves':[17,10,6,14],\n",
        "    \n",
        "    'red lentil onion tomatoes salt black pepper':[14,1,19]\n",
        "}"
      ],
      "metadata": {
        "id": "PEYCCew2-2bw"
      },
      "execution_count": null,
      "outputs": []
    },
    {
      "cell_type": "code",
      "source": [
        "output_docs_dict = {}\n",
        "for test_query in relevance_dict.keys():\n",
        "  output_docs_dict[test_query] = lsa.search(test_query)\n",
        "\n",
        "print(output_docs_dict)"
      ],
      "metadata": {
        "colab": {
          "base_uri": "https://localhost:8080/"
        },
        "id": "4NVNuew9A_h8",
        "outputId": "d9364fcb-549b-44be-e3df-17f543c3c1a0"
      },
      "execution_count": null,
      "outputs": [
        {
          "output_type": "stream",
          "name": "stdout",
          "text": [
            "{'red onions extra virgin olive oil balsamic vinegar': [980, 821, 961, 994, 4], 'butter mushrooms flour port wine': [982, 104, 894, 268, 297], 'vegetable oil unsweetened applesauce eggs vanilla nuts': [989, 358, 249, 380, 369], 'olive oil onion garlic cloves': [74, 566, 683, 398, 864], 'red lentil onion tomatoes salt black pepper': [994, 725, 838, 521, 946]}\n"
          ]
        }
      ]
    },
    {
      "cell_type": "code",
      "source": [
        "# Relevance scores\n",
        "rs = []\n",
        "for query in relevance_dict.keys():\n",
        "  for rr_list in output_docs_dict.values():\n",
        "    rr = [0]*len(rr_list)\n",
        "    for idx in range(len(rr_list)):\n",
        "      if rr_list[idx] in relevance_dict[query]: rr[idx] = 1\n",
        "  rs.append(rr)\n",
        "print((rs))"
      ],
      "metadata": {
        "id": "V-a1Ub1wKo_Q"
      },
      "execution_count": null,
      "outputs": []
    },
    {
      "cell_type": "markdown",
      "source": [
        "### MRR"
      ],
      "metadata": {
        "id": "GxLmpg6F9ohR"
      }
    },
    {
      "cell_type": "code",
      "source": [
        "def mean_reciprocal_rank(rs):\n",
        "  rs = (np.asarray(r).nonzero()[0] for r in rs)\n",
        "  return np.mean([1. / (r[0] + 1) if r.size else 0. for r in rs])\n",
        "\n",
        "print('Mean reciprocal rank: ', mean_reciprocal_rank(rs))"
      ],
      "metadata": {
        "colab": {
          "base_uri": "https://localhost:8080/"
        },
        "id": "JS741kO-FYWh",
        "outputId": "aa2690ce-679a-4463-ddfd-4400cc7da526"
      },
      "execution_count": null,
      "outputs": [
        {
          "output_type": "stream",
          "name": "stdout",
          "text": [
            "Mean reciprocal rank:  0.0\n"
          ]
        }
      ]
    },
    {
      "cell_type": "markdown",
      "source": [
        "### Precision and Recall"
      ],
      "metadata": {
        "id": "66jeEXNpFHk1"
      }
    },
    {
      "cell_type": "code",
      "source": [
        "'''\n",
        "rr_list: document id list retrived by model\n",
        "docs_list: documents retrived by model\n",
        "'''\n",
        "def pres(query,rr_list):\n",
        "    rr_val = len(list(set(relevance_dict[query]) & set(rr_list)))\n",
        "    return rr_val / 5\n",
        "    \n",
        "def rec(query,rr_list):\n",
        "    rr_val = len(list(set(relevance_dict[query]) & set(rr_list)))\n",
        "    return rr_val / len(relevance_dict[query])\n",
        "\n",
        "pres_list =[]\n",
        "rec_list = []\n",
        "\n",
        "for query in relevance_dict.keys():\n",
        "  rr_list = lsa.search(query)\n",
        "  pres_list.append(pres(query, rr_list))\n",
        "  rec_list.append(rec(query,rr_list))\n",
        "\n",
        "avg_pres = np.mean(pres_list)\n",
        "avg_rec = np.mean(rec_list)\n",
        "\n",
        "print(\"Average precision: \",avg_pres)\n",
        "print(\"Average recall: \",avg_rec)"
      ],
      "metadata": {
        "id": "OirQvGHmC7Yw"
      },
      "execution_count": null,
      "outputs": []
    },
    {
      "cell_type": "markdown",
      "source": [
        "### MAP"
      ],
      "metadata": {
        "id": "KeKAi3m7OrZX"
      }
    },
    {
      "cell_type": "code",
      "source": [
        "import numpy as np\n",
        "\n",
        "def precision_at_k(r, k):\n",
        "    assert k >= 1\n",
        "    r = np.asarray(r)[:k] != 0\n",
        "    if r.size != k:\n",
        "        raise ValueError('Relevance score length < k')\n",
        "    return np.mean(r)\n",
        "\n",
        "def average_precision(r):\n",
        "    r = np.asarray(r) != 0\n",
        "    out = [precision_at_k(r, k + 1) for k in range(r.size) if r[k]]\n",
        "    if not out:\n",
        "        return 0.\n",
        "    return np.mean(out)\n",
        "\n",
        "def mean_average_precision(rs):\n",
        "    return np.mean([average_precision(r) for r in rs])\n",
        "\n",
        "print('Mean average precision: ', mean_average_precision(rs))"
      ],
      "metadata": {
        "id": "Sahwe6Jf8nYI"
      },
      "execution_count": null,
      "outputs": []
    },
    {
      "cell_type": "markdown",
      "source": [
        "### NDCG"
      ],
      "metadata": {
        "id": "teBf0iYQRZH3"
      }
    },
    {
      "cell_type": "code",
      "source": [
        "def dcg_at_k(r, k, method=0):\n",
        "    r = np.asfarray(r)[:k]\n",
        "    if r.size:\n",
        "        return r[0] + np.sum(r[1:] / np.log2(np.arange(2, r.size + 1)))\n",
        "    return 0.\n",
        "\n",
        "def ndcg_at_k(r, k, method=0):\n",
        "    dcg_max = dcg_at_k(sorted(r, reverse=True), k, method)\n",
        "    if not dcg_max:\n",
        "        return 0.\n",
        "    return dcg_at_k(r, k, method) / dcg_max"
      ],
      "metadata": {
        "id": "omt6Tji2Oa85"
      },
      "execution_count": null,
      "outputs": []
    }
  ],
  "metadata": {
    "kernelspec": {
      "display_name": "Python 3",
      "language": "python",
      "name": "python3"
    },
    "language_info": {
      "codemirror_mode": {
        "name": "ipython",
        "version": 3
      },
      "file_extension": ".py",
      "mimetype": "text/x-python",
      "name": "python",
      "nbconvert_exporter": "python",
      "pygments_lexer": "ipython3",
      "version": "3.7.4"
    },
    "colab": {
      "name": "LSA_with_eval.ipynb",
      "provenance": [],
      "collapsed_sections": [],
      "include_colab_link": true
    }
  },
  "nbformat": 4,
  "nbformat_minor": 0
}