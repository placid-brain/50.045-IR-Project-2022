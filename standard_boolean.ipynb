{
  "nbformat": 4,
  "nbformat_minor": 0,
  "metadata": {
    "colab": {
      "name": "standard_boolean.ipynb",
      "provenance": [],
      "toc_visible": true,
      "authorship_tag": "ABX9TyMed1Jj9N1pOiNKYtZ12Njz",
      "include_colab_link": true
    },
    "kernelspec": {
      "name": "python3",
      "display_name": "Python 3"
    },
    "language_info": {
      "name": "python"
    }
  },
  "cells": [
    {
      "cell_type": "markdown",
      "metadata": {
        "id": "view-in-github",
        "colab_type": "text"
      },
      "source": [
        "<a href=\"https://colab.research.google.com/github/placid-brain/50.045-IR-Project-2022/blob/main/standard_boolean.ipynb\" target=\"_parent\"><img src=\"https://colab.research.google.com/assets/colab-badge.svg\" alt=\"Open In Colab\"/></a>"
      ]
    },
    {
      "cell_type": "code",
      "execution_count": 51,
      "metadata": {
        "colab": {
          "base_uri": "https://localhost:8080/"
        },
        "id": "JEO2I-bQw2Qf",
        "outputId": "4d0873bb-7d4b-4dfe-cb24-b08d08125873"
      },
      "outputs": [
        {
          "output_type": "stream",
          "name": "stdout",
          "text": [
            "Drive already mounted at /content/drive; to attempt to forcibly remount, call drive.mount(\"/content/drive\", force_remount=True).\n"
          ]
        }
      ],
      "source": [
        "from google.colab import drive\n",
        "drive.mount('/content/drive')"
      ]
    },
    {
      "cell_type": "markdown",
      "source": [
        "## Dataset"
      ],
      "metadata": {
        "id": "rp6VI3YRE-uu"
      }
    },
    {
      "cell_type": "code",
      "source": [
        "import pandas as pd\n",
        "df = pd.read_csv('drive/My Drive/IR/Info Retrieval Group Project/recipes_w_search_terms.csv', nrows=5000)\n",
        "df.shape"
      ],
      "metadata": {
        "colab": {
          "base_uri": "https://localhost:8080/"
        },
        "id": "JpHsvt_SxJ9b",
        "outputId": "1b766eb7-c7b1-4d81-fe02-0776d929b44a"
      },
      "execution_count": 52,
      "outputs": [
        {
          "output_type": "execute_result",
          "data": {
            "text/plain": [
              "(5000, 10)"
            ]
          },
          "metadata": {},
          "execution_count": 52
        }
      ]
    },
    {
      "cell_type": "code",
      "source": [
        "df.head()"
      ],
      "metadata": {
        "colab": {
          "base_uri": "https://localhost:8080/",
          "height": 337
        },
        "id": "yL2y3KSly3qK",
        "outputId": "5151bbf7-3d64-41db-879f-a00a87f38bdc"
      },
      "execution_count": 53,
      "outputs": [
        {
          "output_type": "execute_result",
          "data": {
            "text/plain": [
              "       id                                   name  \\\n",
              "0   96313            Grilled Garlic Cheese Grits   \n",
              "1  232037  Simple Shrimp and Andouille Jambalaya   \n",
              "2   41090             black-and-white bean salad   \n",
              "3   60656             Crock Pot Italian Zucchini   \n",
              "4  232047          Beef Stew With Dried Cherries   \n",
              "\n",
              "                                         description  \\\n",
              "0  We love grits, this is another good way to ser...   \n",
              "1  Simple, easy and very tasty for when you are i...   \n",
              "2                                                NaN   \n",
              "3  This is a good recipe for weight watchers. It ...   \n",
              "4  This is a fabulous stew that came from one of ...   \n",
              "\n",
              "                                         ingredients  \\\n",
              "0  ['water', 'grits', 'salt', 'cheddar cheese', '...   \n",
              "1  ['onion', 'red bell pepper', 'garlic cloves', ...   \n",
              "2  ['white beans', 'canned black beans', 'tomatoe...   \n",
              "3  ['zucchini', 'yellow squash', 'diced tomatoes'...   \n",
              "4  ['beef stew meat', 'flour', 'salt', 'allspice'...   \n",
              "\n",
              "                                 ingredients_raw_str serving_size  servings  \\\n",
              "0  [\"4   cups    water\",\"1   cup   uncooked old f...    1 (155 g)         8   \n",
              "1  [\"1   medium    onion, chopped coarse \",\"1   m...    1 (366 g)         4   \n",
              "2  [\"1   cup   canned white beans, rinsed and dra...    1 (807 g)         1   \n",
              "3  [\"2       zucchini, sliced \",\"2   small    yel...    1 (244 g)         4   \n",
              "4  [\"3   lbs    beef stew meat\",\"3   tablespoons ...    1 (358 g)         8   \n",
              "\n",
              "                                               steps  \\\n",
              "0  ['I a sauce pan, bring water to a boil; slowly...   \n",
              "1  ['In a food processor, pulse the onion, red pe...   \n",
              "2  ['In a large bowl, combine beans, tomato, onio...   \n",
              "3  ['Put all ingredients in the crock pot and coo...   \n",
              "4  ['Preheat oven to 350°F.', \"Cut beef into 1 in...   \n",
              "\n",
              "                                                tags  \\\n",
              "0  ['time-to-make', 'course', 'main-ingredient', ...   \n",
              "1  ['60-minutes-or-less', 'time-to-make', 'course...   \n",
              "2  ['15-minutes-or-less', 'time-to-make', 'course...   \n",
              "3  ['weeknight', 'time-to-make', 'course', 'main-...   \n",
              "4  ['time-to-make', 'course', 'main-ingredient', ...   \n",
              "\n",
              "                                        search_terms  \n",
              "0  {'diabetic', 'low-calorie', 'vegetarian', 'low...  \n",
              "1                               {'dinner', 'shrimp'}  \n",
              "2  {'vegetarian', 'salad', 'side', 'dinner', 'veg...  \n",
              "3                  {'side', 'vegetarian', 'italian'}  \n",
              "4                                         {'dinner'}  "
            ],
            "text/html": [
              "\n",
              "  <div id=\"df-163cb9d0-c818-4e5c-b276-fa32ea33c141\">\n",
              "    <div class=\"colab-df-container\">\n",
              "      <div>\n",
              "<style scoped>\n",
              "    .dataframe tbody tr th:only-of-type {\n",
              "        vertical-align: middle;\n",
              "    }\n",
              "\n",
              "    .dataframe tbody tr th {\n",
              "        vertical-align: top;\n",
              "    }\n",
              "\n",
              "    .dataframe thead th {\n",
              "        text-align: right;\n",
              "    }\n",
              "</style>\n",
              "<table border=\"1\" class=\"dataframe\">\n",
              "  <thead>\n",
              "    <tr style=\"text-align: right;\">\n",
              "      <th></th>\n",
              "      <th>id</th>\n",
              "      <th>name</th>\n",
              "      <th>description</th>\n",
              "      <th>ingredients</th>\n",
              "      <th>ingredients_raw_str</th>\n",
              "      <th>serving_size</th>\n",
              "      <th>servings</th>\n",
              "      <th>steps</th>\n",
              "      <th>tags</th>\n",
              "      <th>search_terms</th>\n",
              "    </tr>\n",
              "  </thead>\n",
              "  <tbody>\n",
              "    <tr>\n",
              "      <th>0</th>\n",
              "      <td>96313</td>\n",
              "      <td>Grilled Garlic Cheese Grits</td>\n",
              "      <td>We love grits, this is another good way to ser...</td>\n",
              "      <td>['water', 'grits', 'salt', 'cheddar cheese', '...</td>\n",
              "      <td>[\"4   cups    water\",\"1   cup   uncooked old f...</td>\n",
              "      <td>1 (155 g)</td>\n",
              "      <td>8</td>\n",
              "      <td>['I a sauce pan, bring water to a boil; slowly...</td>\n",
              "      <td>['time-to-make', 'course', 'main-ingredient', ...</td>\n",
              "      <td>{'diabetic', 'low-calorie', 'vegetarian', 'low...</td>\n",
              "    </tr>\n",
              "    <tr>\n",
              "      <th>1</th>\n",
              "      <td>232037</td>\n",
              "      <td>Simple Shrimp and Andouille Jambalaya</td>\n",
              "      <td>Simple, easy and very tasty for when you are i...</td>\n",
              "      <td>['onion', 'red bell pepper', 'garlic cloves', ...</td>\n",
              "      <td>[\"1   medium    onion, chopped coarse \",\"1   m...</td>\n",
              "      <td>1 (366 g)</td>\n",
              "      <td>4</td>\n",
              "      <td>['In a food processor, pulse the onion, red pe...</td>\n",
              "      <td>['60-minutes-or-less', 'time-to-make', 'course...</td>\n",
              "      <td>{'dinner', 'shrimp'}</td>\n",
              "    </tr>\n",
              "    <tr>\n",
              "      <th>2</th>\n",
              "      <td>41090</td>\n",
              "      <td>black-and-white bean salad</td>\n",
              "      <td>NaN</td>\n",
              "      <td>['white beans', 'canned black beans', 'tomatoe...</td>\n",
              "      <td>[\"1   cup   canned white beans, rinsed and dra...</td>\n",
              "      <td>1 (807 g)</td>\n",
              "      <td>1</td>\n",
              "      <td>['In a large bowl, combine beans, tomato, onio...</td>\n",
              "      <td>['15-minutes-or-less', 'time-to-make', 'course...</td>\n",
              "      <td>{'vegetarian', 'salad', 'side', 'dinner', 'veg...</td>\n",
              "    </tr>\n",
              "    <tr>\n",
              "      <th>3</th>\n",
              "      <td>60656</td>\n",
              "      <td>Crock Pot Italian Zucchini</td>\n",
              "      <td>This is a good recipe for weight watchers. It ...</td>\n",
              "      <td>['zucchini', 'yellow squash', 'diced tomatoes'...</td>\n",
              "      <td>[\"2       zucchini, sliced \",\"2   small    yel...</td>\n",
              "      <td>1 (244 g)</td>\n",
              "      <td>4</td>\n",
              "      <td>['Put all ingredients in the crock pot and coo...</td>\n",
              "      <td>['weeknight', 'time-to-make', 'course', 'main-...</td>\n",
              "      <td>{'side', 'vegetarian', 'italian'}</td>\n",
              "    </tr>\n",
              "    <tr>\n",
              "      <th>4</th>\n",
              "      <td>232047</td>\n",
              "      <td>Beef Stew With Dried Cherries</td>\n",
              "      <td>This is a fabulous stew that came from one of ...</td>\n",
              "      <td>['beef stew meat', 'flour', 'salt', 'allspice'...</td>\n",
              "      <td>[\"3   lbs    beef stew meat\",\"3   tablespoons ...</td>\n",
              "      <td>1 (358 g)</td>\n",
              "      <td>8</td>\n",
              "      <td>['Preheat oven to 350°F.', \"Cut beef into 1 in...</td>\n",
              "      <td>['time-to-make', 'course', 'main-ingredient', ...</td>\n",
              "      <td>{'dinner'}</td>\n",
              "    </tr>\n",
              "  </tbody>\n",
              "</table>\n",
              "</div>\n",
              "      <button class=\"colab-df-convert\" onclick=\"convertToInteractive('df-163cb9d0-c818-4e5c-b276-fa32ea33c141')\"\n",
              "              title=\"Convert this dataframe to an interactive table.\"\n",
              "              style=\"display:none;\">\n",
              "        \n",
              "  <svg xmlns=\"http://www.w3.org/2000/svg\" height=\"24px\"viewBox=\"0 0 24 24\"\n",
              "       width=\"24px\">\n",
              "    <path d=\"M0 0h24v24H0V0z\" fill=\"none\"/>\n",
              "    <path d=\"M18.56 5.44l.94 2.06.94-2.06 2.06-.94-2.06-.94-.94-2.06-.94 2.06-2.06.94zm-11 1L8.5 8.5l.94-2.06 2.06-.94-2.06-.94L8.5 2.5l-.94 2.06-2.06.94zm10 10l.94 2.06.94-2.06 2.06-.94-2.06-.94-.94-2.06-.94 2.06-2.06.94z\"/><path d=\"M17.41 7.96l-1.37-1.37c-.4-.4-.92-.59-1.43-.59-.52 0-1.04.2-1.43.59L10.3 9.45l-7.72 7.72c-.78.78-.78 2.05 0 2.83L4 21.41c.39.39.9.59 1.41.59.51 0 1.02-.2 1.41-.59l7.78-7.78 2.81-2.81c.8-.78.8-2.07 0-2.86zM5.41 20L4 18.59l7.72-7.72 1.47 1.35L5.41 20z\"/>\n",
              "  </svg>\n",
              "      </button>\n",
              "      \n",
              "  <style>\n",
              "    .colab-df-container {\n",
              "      display:flex;\n",
              "      flex-wrap:wrap;\n",
              "      gap: 12px;\n",
              "    }\n",
              "\n",
              "    .colab-df-convert {\n",
              "      background-color: #E8F0FE;\n",
              "      border: none;\n",
              "      border-radius: 50%;\n",
              "      cursor: pointer;\n",
              "      display: none;\n",
              "      fill: #1967D2;\n",
              "      height: 32px;\n",
              "      padding: 0 0 0 0;\n",
              "      width: 32px;\n",
              "    }\n",
              "\n",
              "    .colab-df-convert:hover {\n",
              "      background-color: #E2EBFA;\n",
              "      box-shadow: 0px 1px 2px rgba(60, 64, 67, 0.3), 0px 1px 3px 1px rgba(60, 64, 67, 0.15);\n",
              "      fill: #174EA6;\n",
              "    }\n",
              "\n",
              "    [theme=dark] .colab-df-convert {\n",
              "      background-color: #3B4455;\n",
              "      fill: #D2E3FC;\n",
              "    }\n",
              "\n",
              "    [theme=dark] .colab-df-convert:hover {\n",
              "      background-color: #434B5C;\n",
              "      box-shadow: 0px 1px 3px 1px rgba(0, 0, 0, 0.15);\n",
              "      filter: drop-shadow(0px 1px 2px rgba(0, 0, 0, 0.3));\n",
              "      fill: #FFFFFF;\n",
              "    }\n",
              "  </style>\n",
              "\n",
              "      <script>\n",
              "        const buttonEl =\n",
              "          document.querySelector('#df-163cb9d0-c818-4e5c-b276-fa32ea33c141 button.colab-df-convert');\n",
              "        buttonEl.style.display =\n",
              "          google.colab.kernel.accessAllowed ? 'block' : 'none';\n",
              "\n",
              "        async function convertToInteractive(key) {\n",
              "          const element = document.querySelector('#df-163cb9d0-c818-4e5c-b276-fa32ea33c141');\n",
              "          const dataTable =\n",
              "            await google.colab.kernel.invokeFunction('convertToInteractive',\n",
              "                                                     [key], {});\n",
              "          if (!dataTable) return;\n",
              "\n",
              "          const docLinkHtml = 'Like what you see? Visit the ' +\n",
              "            '<a target=\"_blank\" href=https://colab.research.google.com/notebooks/data_table.ipynb>data table notebook</a>'\n",
              "            + ' to learn more about interactive tables.';\n",
              "          element.innerHTML = '';\n",
              "          dataTable['output_type'] = 'display_data';\n",
              "          await google.colab.output.renderOutput(dataTable, element);\n",
              "          const docLink = document.createElement('div');\n",
              "          docLink.innerHTML = docLinkHtml;\n",
              "          element.appendChild(docLink);\n",
              "        }\n",
              "      </script>\n",
              "    </div>\n",
              "  </div>\n",
              "  "
            ]
          },
          "metadata": {},
          "execution_count": 53
        }
      ]
    },
    {
      "cell_type": "code",
      "source": [
        "def function(ini_list):\n",
        "  new_cell = ini_list.strip('][').split(', ')\n",
        "  for item in new_cell:\n",
        "    item = item.replace(\"'\",\"\")\n",
        "  return new_cell\n",
        "\n",
        "df['ingredients'] = df['ingredients'].apply(function)\n",
        "df2 = df[['id', 'name','ingredients','steps']]\n",
        "df2.head()"
      ],
      "metadata": {
        "colab": {
          "base_uri": "https://localhost:8080/",
          "height": 206
        },
        "id": "HNne-ycBz0ZH",
        "outputId": "aee08829-cbea-463b-821e-ba5f6118f162"
      },
      "execution_count": 54,
      "outputs": [
        {
          "output_type": "execute_result",
          "data": {
            "text/plain": [
              "       id                                   name  \\\n",
              "0   96313            Grilled Garlic Cheese Grits   \n",
              "1  232037  Simple Shrimp and Andouille Jambalaya   \n",
              "2   41090             black-and-white bean salad   \n",
              "3   60656             Crock Pot Italian Zucchini   \n",
              "4  232047          Beef Stew With Dried Cherries   \n",
              "\n",
              "                                         ingredients  \\\n",
              "0  ['water', 'grits', 'salt', 'cheddar cheese', '...   \n",
              "1  ['onion', 'red bell pepper', 'garlic cloves', ...   \n",
              "2  ['white beans', 'canned black beans', 'tomatoe...   \n",
              "3  ['zucchini', 'yellow squash', 'diced tomatoes'...   \n",
              "4  ['beef stew meat', 'flour', 'salt', 'allspice'...   \n",
              "\n",
              "                                               steps  \n",
              "0  ['I a sauce pan, bring water to a boil; slowly...  \n",
              "1  ['In a food processor, pulse the onion, red pe...  \n",
              "2  ['In a large bowl, combine beans, tomato, onio...  \n",
              "3  ['Put all ingredients in the crock pot and coo...  \n",
              "4  ['Preheat oven to 350°F.', \"Cut beef into 1 in...  "
            ],
            "text/html": [
              "\n",
              "  <div id=\"df-fe6e5332-bd9e-4834-b348-d86e86ba84dd\">\n",
              "    <div class=\"colab-df-container\">\n",
              "      <div>\n",
              "<style scoped>\n",
              "    .dataframe tbody tr th:only-of-type {\n",
              "        vertical-align: middle;\n",
              "    }\n",
              "\n",
              "    .dataframe tbody tr th {\n",
              "        vertical-align: top;\n",
              "    }\n",
              "\n",
              "    .dataframe thead th {\n",
              "        text-align: right;\n",
              "    }\n",
              "</style>\n",
              "<table border=\"1\" class=\"dataframe\">\n",
              "  <thead>\n",
              "    <tr style=\"text-align: right;\">\n",
              "      <th></th>\n",
              "      <th>id</th>\n",
              "      <th>name</th>\n",
              "      <th>ingredients</th>\n",
              "      <th>steps</th>\n",
              "    </tr>\n",
              "  </thead>\n",
              "  <tbody>\n",
              "    <tr>\n",
              "      <th>0</th>\n",
              "      <td>96313</td>\n",
              "      <td>Grilled Garlic Cheese Grits</td>\n",
              "      <td>['water', 'grits', 'salt', 'cheddar cheese', '...</td>\n",
              "      <td>['I a sauce pan, bring water to a boil; slowly...</td>\n",
              "    </tr>\n",
              "    <tr>\n",
              "      <th>1</th>\n",
              "      <td>232037</td>\n",
              "      <td>Simple Shrimp and Andouille Jambalaya</td>\n",
              "      <td>['onion', 'red bell pepper', 'garlic cloves', ...</td>\n",
              "      <td>['In a food processor, pulse the onion, red pe...</td>\n",
              "    </tr>\n",
              "    <tr>\n",
              "      <th>2</th>\n",
              "      <td>41090</td>\n",
              "      <td>black-and-white bean salad</td>\n",
              "      <td>['white beans', 'canned black beans', 'tomatoe...</td>\n",
              "      <td>['In a large bowl, combine beans, tomato, onio...</td>\n",
              "    </tr>\n",
              "    <tr>\n",
              "      <th>3</th>\n",
              "      <td>60656</td>\n",
              "      <td>Crock Pot Italian Zucchini</td>\n",
              "      <td>['zucchini', 'yellow squash', 'diced tomatoes'...</td>\n",
              "      <td>['Put all ingredients in the crock pot and coo...</td>\n",
              "    </tr>\n",
              "    <tr>\n",
              "      <th>4</th>\n",
              "      <td>232047</td>\n",
              "      <td>Beef Stew With Dried Cherries</td>\n",
              "      <td>['beef stew meat', 'flour', 'salt', 'allspice'...</td>\n",
              "      <td>['Preheat oven to 350°F.', \"Cut beef into 1 in...</td>\n",
              "    </tr>\n",
              "  </tbody>\n",
              "</table>\n",
              "</div>\n",
              "      <button class=\"colab-df-convert\" onclick=\"convertToInteractive('df-fe6e5332-bd9e-4834-b348-d86e86ba84dd')\"\n",
              "              title=\"Convert this dataframe to an interactive table.\"\n",
              "              style=\"display:none;\">\n",
              "        \n",
              "  <svg xmlns=\"http://www.w3.org/2000/svg\" height=\"24px\"viewBox=\"0 0 24 24\"\n",
              "       width=\"24px\">\n",
              "    <path d=\"M0 0h24v24H0V0z\" fill=\"none\"/>\n",
              "    <path d=\"M18.56 5.44l.94 2.06.94-2.06 2.06-.94-2.06-.94-.94-2.06-.94 2.06-2.06.94zm-11 1L8.5 8.5l.94-2.06 2.06-.94-2.06-.94L8.5 2.5l-.94 2.06-2.06.94zm10 10l.94 2.06.94-2.06 2.06-.94-2.06-.94-.94-2.06-.94 2.06-2.06.94z\"/><path d=\"M17.41 7.96l-1.37-1.37c-.4-.4-.92-.59-1.43-.59-.52 0-1.04.2-1.43.59L10.3 9.45l-7.72 7.72c-.78.78-.78 2.05 0 2.83L4 21.41c.39.39.9.59 1.41.59.51 0 1.02-.2 1.41-.59l7.78-7.78 2.81-2.81c.8-.78.8-2.07 0-2.86zM5.41 20L4 18.59l7.72-7.72 1.47 1.35L5.41 20z\"/>\n",
              "  </svg>\n",
              "      </button>\n",
              "      \n",
              "  <style>\n",
              "    .colab-df-container {\n",
              "      display:flex;\n",
              "      flex-wrap:wrap;\n",
              "      gap: 12px;\n",
              "    }\n",
              "\n",
              "    .colab-df-convert {\n",
              "      background-color: #E8F0FE;\n",
              "      border: none;\n",
              "      border-radius: 50%;\n",
              "      cursor: pointer;\n",
              "      display: none;\n",
              "      fill: #1967D2;\n",
              "      height: 32px;\n",
              "      padding: 0 0 0 0;\n",
              "      width: 32px;\n",
              "    }\n",
              "\n",
              "    .colab-df-convert:hover {\n",
              "      background-color: #E2EBFA;\n",
              "      box-shadow: 0px 1px 2px rgba(60, 64, 67, 0.3), 0px 1px 3px 1px rgba(60, 64, 67, 0.15);\n",
              "      fill: #174EA6;\n",
              "    }\n",
              "\n",
              "    [theme=dark] .colab-df-convert {\n",
              "      background-color: #3B4455;\n",
              "      fill: #D2E3FC;\n",
              "    }\n",
              "\n",
              "    [theme=dark] .colab-df-convert:hover {\n",
              "      background-color: #434B5C;\n",
              "      box-shadow: 0px 1px 3px 1px rgba(0, 0, 0, 0.15);\n",
              "      filter: drop-shadow(0px 1px 2px rgba(0, 0, 0, 0.3));\n",
              "      fill: #FFFFFF;\n",
              "    }\n",
              "  </style>\n",
              "\n",
              "      <script>\n",
              "        const buttonEl =\n",
              "          document.querySelector('#df-fe6e5332-bd9e-4834-b348-d86e86ba84dd button.colab-df-convert');\n",
              "        buttonEl.style.display =\n",
              "          google.colab.kernel.accessAllowed ? 'block' : 'none';\n",
              "\n",
              "        async function convertToInteractive(key) {\n",
              "          const element = document.querySelector('#df-fe6e5332-bd9e-4834-b348-d86e86ba84dd');\n",
              "          const dataTable =\n",
              "            await google.colab.kernel.invokeFunction('convertToInteractive',\n",
              "                                                     [key], {});\n",
              "          if (!dataTable) return;\n",
              "\n",
              "          const docLinkHtml = 'Like what you see? Visit the ' +\n",
              "            '<a target=\"_blank\" href=https://colab.research.google.com/notebooks/data_table.ipynb>data table notebook</a>'\n",
              "            + ' to learn more about interactive tables.';\n",
              "          element.innerHTML = '';\n",
              "          dataTable['output_type'] = 'display_data';\n",
              "          await google.colab.output.renderOutput(dataTable, element);\n",
              "          const docLink = document.createElement('div');\n",
              "          docLink.innerHTML = docLinkHtml;\n",
              "          element.appendChild(docLink);\n",
              "        }\n",
              "      </script>\n",
              "    </div>\n",
              "  </div>\n",
              "  "
            ]
          },
          "metadata": {},
          "execution_count": 54
        }
      ]
    },
    {
      "cell_type": "markdown",
      "source": [
        "make a search engine for ingredients which will show the name of dish and steps as the output"
      ],
      "metadata": {
        "id": "KBjGM0Js7oNq"
      }
    },
    {
      "cell_type": "code",
      "source": [
        "ingredients = df2['ingredients']\n",
        "ingredients.head()\n",
        "# print(type(ingredients))"
      ],
      "metadata": {
        "id": "YSDk5C12s2Ao",
        "colab": {
          "base_uri": "https://localhost:8080/"
        },
        "outputId": "bec955bc-170e-410d-dba7-e34eb6e9ccdf"
      },
      "execution_count": 55,
      "outputs": [
        {
          "output_type": "execute_result",
          "data": {
            "text/plain": [
              "0    ['water', 'grits', 'salt', 'cheddar cheese', '...\n",
              "1    ['onion', 'red bell pepper', 'garlic cloves', ...\n",
              "2    ['white beans', 'canned black beans', 'tomatoe...\n",
              "3    ['zucchini', 'yellow squash', 'diced tomatoes'...\n",
              "4    ['beef stew meat', 'flour', 'salt', 'allspice'...\n",
              "Name: ingredients, dtype: object"
            ]
          },
          "metadata": {},
          "execution_count": 55
        }
      ]
    },
    {
      "cell_type": "markdown",
      "source": [
        "## Index"
      ],
      "metadata": {
        "id": "ZPKv0lbcFDoI"
      }
    },
    {
      "cell_type": "code",
      "source": [
        "import nltk\n",
        "from nltk.tokenize import word_tokenize\n",
        "import re\n",
        "import sys\n",
        "import time\n",
        "nltk.download('punkt')"
      ],
      "metadata": {
        "colab": {
          "base_uri": "https://localhost:8080/"
        },
        "id": "CQSO-Kc3kG-y",
        "outputId": "cca82153-0e9e-4180-bcc4-7fdc0f211a1c"
      },
      "execution_count": 56,
      "outputs": [
        {
          "output_type": "stream",
          "name": "stderr",
          "text": [
            "[nltk_data] Downloading package punkt to /root/nltk_data...\n",
            "[nltk_data]   Package punkt is already up-to-date!\n"
          ]
        },
        {
          "output_type": "execute_result",
          "data": {
            "text/plain": [
              "True"
            ]
          },
          "metadata": {},
          "execution_count": 56
        }
      ]
    },
    {
      "cell_type": "code",
      "source": [
        "def remove_special_characters(text):\n",
        "    regex = re.compile('[^a-zA-Z0-9\\s]')\n",
        "    text_returned = re.sub(regex,'',text)\n",
        "    return text_returned"
      ],
      "metadata": {
        "id": "s5VaoM5xNbhW"
      },
      "execution_count": 57,
      "outputs": []
    },
    {
      "cell_type": "code",
      "source": [
        "unique_words_all = set()\n",
        "for idx, ingre_lst in enumerate(ingredients):\n",
        "  words = []\n",
        "  for ingre in ingre_lst:\n",
        "    ingre = ingre[1:-1] # remove apostrophe\n",
        "    ingre = remove_special_characters(ingre).lower() # remove special characters\n",
        "    for word in ingre.split():\n",
        "      unique_words_all.add(word)\n",
        "\n",
        "print(unique_words_all)"
      ],
      "metadata": {
        "colab": {
          "base_uri": "https://localhost:8080/"
        },
        "id": "MHs78RaE927V",
        "outputId": "9d62cb19-7a74-42ca-9ea3-bc4c8f48cd71"
      },
      "execution_count": 58,
      "outputs": [
        {
          "output_type": "stream",
          "name": "stdout",
          "text": [
            "{'baby', 'heinz26reg3b', 'cap', 'kumquats', 'bocconcini', 'breadcrumbs', 'edam', 'shank', 'xrated', 'pina', 'pimentos', 'arborio', 'in', 'aminos', 'energy', 'emeril27s', 'cheesefilled', 'shavings', 'spaghettini', 'molasses', 'garlic', 'tie', 'thickened', 'hen', 'house', 'salsa', 'cantaloupe', 'sticks', 'cocoa', 'reynolds', 'oranges2c', 'blueberries', 'coconut', 'rolo', 'nectarines', 'hoisin', 'juice', 'kosher', 'hazelnut', 'maggi', 'niblet', 'poultry', 'eau', 'sauvignon', 'shelled', 'healthy', 'bananas', 'ancho', 'red', 'tenderloin', 'tiger', 'rump', 'clove', 'ribs', 'peppermint', 'soymilk', 'endive', 'nutritional', 'granulated', 'caraway', 'morton', 'oilflavored', 'passion', 'mince', 'swordfish', 'points', 'gingersnap', 'msg', 'classic', 'angostura', 'french27s', 'extralarge', 'butterhead', 'mortadella', 'minestrone', 'large', 'clamato', 'navy', 'cool', 'catalina', 'chablis', 'coffee', 'yolk', 'melon', 'palm', 'ruby', 'leather', 'gras', 'oleo', 'frangelico', 'marjoram', 'head', 'masala', 'chip', 'fenugreek', 'traditional', 'fregola', 'm26m27s', 'textured', 'mediumsized', 'white', 'leg', 'all', 'plus', 'bars', 'lillet', 'chili', 'giardiniera', 'from', 'beefsteak', 'tequila', 'wonton', 'brussels', 'scallions', 'oilcured', 'button', 'tomatillos', 'za27atar', 'secrets', 'cellophane', 'i', 'mole', 'plum', 'heart', 'sunflower', 'buds', 'stone', 'stilton', 'juices', 'mayonnaise', 'beets', 'triscuits', 'harissa', 'wing', 'ripe', 'buttery', 'frogs', 'chambord', 'ram', 'celery', 'potatoes26reg3b', 'king', 'cacao', 'morton27s', 'country', 'pecans', 'familysize', 'acini', 'splenda', 'canola', 'tapenade', 'tortillas', 'vinaigrette', 'field', 'herbseasoned', 'italianstyle', 'medium', 'of', 'globe', 'key', 'leaves', 'sauce', 'segments', 'reblochon', 'florets', 'mandarin', 'pralines', 'curacao', 'not', 'oil', 'pancetta', 'malibu', 'ciabatta', 'gingerbread', 'peanut', 'phyllo', 'cubes', 'meyer', 'tostadas', 'liver', 'wrapper', 'mary', 'cashew', 'crumb', 'mexicanstyle', 'popcorn', 'brine', 'amchur', 'shreddies', 'almond', 'clear', 'gourd', '9025', 'nacho', 'crushed', 'spreadable', 'boboli', 'brisket', 'franks', 'stems', 'cardamoms', 'rib', 'heirloom', 'tofu', 'toffee', 'hash', 'curlyleaf', 'pimento', 'unsulphured', 'meal', '9825', 'hanout', 'serrano', 'grapes', 'hoagie', 'spareribs', 'sheets', 'nuggets', 'garbanzo', 'cakeandpastry', 'garlicflavored', 'wrap', 'ranch26reg3b', 'streaky', 'avocadoes', 'fullcream', 'crispy', 'wafers', 'baking', 'french', 'papayas', 'pepperoni', 'flakey', 'gorgonzola', 'radicchio', 'bull', 'pollock', 'threads', 'farina', 'besan', 'koolaid', 'melba', 'haddock', 'chervil', 'chia', 'blueberry', 'stevia', 'glace', 'gum', 'wheat', 'water', 'toothpicks', 'doubleacting', 'chipolata', 'baharat', 'lavash', 'idaho', 'suet', 'leeks', 'pinhead', 'meatloaf', 'garam', 'sliced', 'cuban', 'broilerfryer', 'pancake', 'hock', 'watermelon', 'believe', 'chestnuts', 'lowsodium', 'small', 'berries', 'bits', 'fuyu', 'seaweed', 'fresco', 'valley26reg3b', 'oysters', 'cutlets', 'raisin', 'bags', 'sprig', 'orientalflavor', 'cookie', 'tater', 'chickpea', 'sodiumfree', 'shoyu', 'spear', 'millet', 'custard', 'whiz', 'rack', 'date', 'dried', 'rising', 'neufchatel', 'goat27s', 'juniper', 'malt', 'pam', 'worcestershire', 'lan', 'quark', 'tenders', 'steamed', 'chile', 'candy', 'herbal', 'leave', 'style', 'bulgur', 'soap', 'raspberry', 'round', 'tang', 'filling', 'fermented', 'mixture', '9', 'psyllium', 'cheezit', 'lingonberry', 'cocacola', 'safflower', 'orecchiette', 'kaffir', 'hominy', 'hollandaise', 'wedge', 'best26reg3b', 'umeboshi', 'dashi', 'nestle', 'loin', 'sazon', 'sherbet', 'sweetandsour', 'brewed', 'england', 'short', 'rabbit', 'cornbread', 'savoy', 'marinade', 'jack', 'bonito', 'island', 'double', 'chutney', 'semisweet', 'stem', 'vegan', 'crab', 'skewer', 'turkey', 'hot', 'flaked', 'anjou', 'mojito', 'bagel', '151', 'doughnuts', 'rind', 'cod', 'grilled', 'maria', 'baked', 'free', 'lowcarb', 'wrappers', 'cookies', 'cow', 'bacon', 'teddy', 'camembert', 'beaters', 'amaretto', 'mexicorn', 'homemade', 'okra', 'paint', 'chipotle', 'floret', 'leaf', 'ritz', 'compote', 'marrow', 'roux', 'demerara', 'burgers', 'mashed', 'rose', 'simply', 'pastrami', 'crunch', 'sultanas', 'chiliflavored', 'creamer', 'cracked', 'fiber', 'bourbon', 'blackberry', 'bok', 'cucumber', 'stick', 'digestive', 'indian', 'plain', 'aluminum', 'rounds', 'pecan', 'italian', 'grouper', 'crunchy', 'oregano', 'piece', 'kix', 'savory', 'vanilla', 'squash', 'tacoseasoned', 'marsala', 'nutmeg', 'vegemite', 'mushrooms', 'spray', 'strawberryflavor', 'boston', 'nutella', 'chocolatecovered', 'marnier', 'diet', '525', 'mincemeat', 'bulbs', 'mozzarella', 'madeira', 'bermuda', 'coconuts', 'parmigianoreggiano', 'tart', 'heinz', 'and', 'tapioca', 'cajunstyle', 'verde', 'broad', 'ziti', 'fontinella', 'fusion', 'meatless', 'snacks', 'cornstarch', 'steamer', 'lebanese', 'stove', 'raclette', 'lentil', 'grapefruits', 'parsnip', 'sticky', 'pistachio', 'finely', 'kamaboko', 'liquid', 'gherkin', 'cloves', 'pimiento', 'square', 'flavor', 'muffuletta', 'zatarain27sc2ae', 'sherry', 'chat', 'slivered', 'wood', 'alfalfa', 'lawrys', 'flower', 'bitter', 'butterfinger', 'poundcake', 'kingfish', 'sour', 'truffle', 'flowers', 'starter', 'unbaked', 'hearts', 'scape', 'm26m', 'seafood', 'sausage', '3525', 'american', 'roll', 'citrusinfused', 'shredded', 'raising', 'herbed', 'farm', 'focaccia', 'syrup', 'boursin', 'kraft26reg3b', 'guacamole', 'yuzu', 'fried', 'fava', 'conch', 'chestnut', 'grilling', 'persimmons', 'tamari', 'pomegranate', 'caster', 'chops', 'waterpacked', 'dog', 'portabella', 'fingerling', 'tagliatelle', 'balsamic', 'v8', 'bag', 'pasta', 'jicama', 'unrefined', 'cooked', 'kasseri', 'dish', 'devil27s', 'mccormick', 'caramel', 'liquor', 'broth', 'pretzel', 'goat', 'kahlua', 'coarse', 'lemons2c', 'essence', 'muffins', 'skim', 'thigh', 'bolognese', 'grapeseed', 'tricolored', 'browning', 'multigrain', 'pesto', 'ladyfingers', 'oka', 'cola', 'pan', 'lime', 'hellmann27s', 'colbymonterey', 'shoe', '9625', 'forest', 'chowder', 'puree', 'buttermilk', 'liqueur', 'velveeta', 'archer', 'canned', 'skins', 'strips', 'cilantro', 'currant', 'mustardmayonnaise', 'bottoms', 'lima', 'pastry', 'queso', 'on', 'tomatillo', 'lumpia', 'feta', 'chayote', 'gianduja', 'long', 'glutinousrice', 'weed', 'monkfish', 'umbrellas', 'kernel', 'marmalade', 'acids', 'provolone', 'skewers', 'ghee', 'sevengrain', 'rockfish', 'hardcooked', 'bar', 'groats', 'rock', 'udon', 'szechwan', 'pearl', 'ortega', 'taco', 'discos', 'sake', 'basil', 'deviled', 'haricots', 'rolled', 'tablet', 'deep', 'caramels', 'pizza', 'fish', 'crawfish', 'croutons', 'poppy', 'bird27s', 'marshmallows', 'petal', 'string', 'oreo', 'belly', 'sardines', 'krispies', 'pantry26reg3b', 'chopped', 'icing', 'ketchup', 'sucanat', 'apples', 'boiling', 'chicken', 'rocket', 'drummettes', 'tots', 'pumpernickel', 'yucca', 'favorite', 'broil', 'chives', 'anchovies', 'condensed', 'fines', 'browns', 'agave', 'vegetable', 'tabasco', 'your', 'sparkling', 'sandwiches', 'brummel', 'szechuan', 'baileys', 'albacore', 'germ', 'methi', 'a1', 'readymade', 'karo', 'capers', 'squirrels', 'nonstick', 'olives', 'agaragar', 'apple', 'raw', 'halve', 'horseradish', 'tarragon', 'buns', 'peg', 'kielbasa', 'reducedcalorie', 'caper', 'dark', 'accent', 'zest', 'peach', 'pillsbury', 'mascarpone', 'shortening', 'soup', 'cut', 'tails', 'seasoned', 'amaretti', 'slices', 'riesling', 'fumet', 'asiago', 'sprinkles', 'sofrito', 'nectar', 'whiskey', 'cranberry', 'beer', 'bouquet', 'nutmeats', 'crescent', 'fat', 'center', 'spanish', 'spring', 'chilies', 'balance', 'legsthighs', 'anise', 'beef', 'energ', 'spaghetti', 'tartar', 'lecithin', 'campbell27s', 'purple', 'bow', 'food', 'kelp', 'heavy', 'emmenthaler', 'shell', 'crackers', 'cherry', 'japanesestyle', 'grease', 'raspberrycranberry', '9325', 'cornichons', 'lean', 'lite', 'top', 'casera', 'rice', 'crisco', 'winecured', 'young', 'rotelle', 'fig', 'gold27n', '10025', 'club', 'prawns', 'pepperidge', 'snapper', 'ivory', 'unsalted', 'ramen', 'dough', 'butterscotch', 'tail', 'malted', 'flax', 'table', 'a', 'delicious', 'crookneck', 'muffin', 'parkay', 'bones', 'plums', 'bing', 'spelt', 'cachous', 'sifted', 'soft', 'snake', 'parmigiano', 'york', 'crusts', 'whitefish', 'cake', 'fettuccine', 'mitsuba', 'yams', 'gingergarlic', 'birds', 'xanthan', 'farfel', 'nesquik', 'ditali', 'stripe', 'german', 'romano', 'channa', 'salted', 'onions', 'halfandhalf', 'tenderloins', 'unseasoned', 'aubergine', 'matzo', 'pudding', 'ovaltine', 'triple', 'soda', 'crystallized', 'rings', 'sweet', 'hass', 'tropical', 'cloth', 'corn', 'homestyle', 'baguettes', 'refried', 'enhancer', 'dream', 'cob', 'mangoes', 'cabbage', 'shiitake', 'cheerios', 'cognac', 'challah', 'fullfat', 'potatoes', 'thyme', 'glutenfree', 'granny', 'lipton', 'mars', 'dasheen', 'maraschino', 'cubanelle', 'genoa', 'goya', 'yeast', 'grahams', 'fire', 'praline', 'fryer', 'watercress', 'croissants', 'arils', 'cheez', 'orange2c', 'toast', 'basa', 'cicadas', 'hijiki', 'gallo', 'grenadine', 'grits', 'turbinado', 'risotto', 'drippings', 'tip', 'selfrising', 'sprout', 'lemons', 'monterey', 'cumin', 'topping', 'papaya', 'reduced', 'texas', 'mutton', 'jel', 'asian', 'vegetarian', 'jus', 'mesquite', 'angel', 'clarified', 'tiny', 'cube', 'salts', 'port', 'clementines', 'yogurt', 'hyssop', 'with', 'pods', 'poupon', 'morsels', 'sundae', 'shake', 'silver', 'morsel', 'skinless', 'mayer', 'pepper', 'swiss', 'butt', 'fruits', 'pitted', 'elephant', 'frenchfried', 'couscous', 'filet', 'thousand', '26', 'mace', 'nondairy', 'courgette', 'miniature', 'paprika', 'calamari', 'citrus', 'seville', 'toor', 'warm', 'extrasharp', 'gingerroot', 'purpose', 'lardons', 'meatballs', 'fusilli', 'chevre', 'sandwich', 'dressing', 'cider', 'chianti', 'steak', 'yolks', 'bran', 'brandy', 'boneless', 'marble', 'farfalle', 'grillers', 'raspberries', 'quick', 'crisp', 'refrigerated', 'caesar', 'anchovy', 'salt', 'balm', 'eggs', 'parmesan', 'light', 'cold', 'sheep27s', 'broiler', 'mini', 'tilapia', 'con', 'tangerine', 'ziploc', 'pink', 'athenos', 'zucchini', 'pickling', 'vital', 'fillet', 'the', 'pernod', 'eggplant', 'herbes', 'pastina', 'peking', 'breaded', 'figs', 'aged', 'mushroom', 'ricotta', 'hines', 'reducedfat', 'wooden', 'gin', 'unsifted', 'cointreau', 'nori', 'drumsticks', 'sprite', 'gold', 'lump', 'spinach', 'lemon', 'evaporated', 'thick', 'popped', 'vert', 'mint', 'patties', 'dryroasted', 'preserved', 'tasso', 'milk', 'allvegetable', 'wax', 'jiffy', 'sumac', 'yellow', 'grapefruit', 'spice', 'rotisseriecooked', 'dry', 'peas', 'organic', 'bamboo', 'reducedsodium', 'burgundy', 'whip', 'chanterelle', 'mccormick27s', 'tricolor', 'grey', 'tarts', 'dutchprocessed', 'el', 'virgin', 'hershey', 'tuna', 'bugles', 'nam', 'arrowroot', 'prosciutto', 'jalapenos', 'fennel', 'iceberg', 'seasoning', 'apricot', 'centercut', 'strawberries', 'chilis', 'muenster', 'blue', 'foil', 'slaw', 'parsley', 'flavoring', 'greek', '57', 'pod', 'ragc3bac2ae', 'goddess', 'pepitas', 'rosa', 'unflavored', 'true', 'lowfat', 'hummus', 'swirled', 'erythritol', '1825', 'enchilada', 'mussels', 'berry', 'de', 'lamb', '27n', 'ground', 'rubbed', 'halvah', 'crisco26reg3b', 'farms', 'rub', 'brazil', 'lawry27s', 'parts', 'lemonpepper', 'steaks', 'green', 'whole', 'spiral', 'beet', 'tap', 'tzatziki', 'colored', 'great', 'rennet', 'pieces', 'sections', 'allbran', 'penne', 'stuffing', 'kirby', 'mahi', 'rabe', 'whipped', 'wine', 'persian', 'rutabaga', 'champagne', 'limoncello', 'eggnog', 'four', 'semolina', 'punch', 'corkscrew', 'almonds', 'pie', 'peel', 'flour', 'andouille', 'uncooked', 'frank27s', 'snap', 'edamame', 'preshredded', 'hidden', 'wensleydale', 'solid', 'grapenuts', 'romaine', 'sprigs', 'cannellini', 'valley', 'alphabet', 'transfat', 'porcini', 'ducks', 'sole', 'puff', 'smith', 'flavored', 'fajitasize', 'frankfurter', 'duck', 'sponge', 'cardamom', 'broccolini', 'summer', 'crouton', 'gelatin', 'rye', 'active', 'di', 'lowmoisture', 'peanuts', 'colby', 'dal', 'readytoserve', 'lettuce', 'chickens', 'sweetcorn', 'rise', 'tomatoes', 'parsnips', 'citric', 'butternut', 'baguette', 'bacardi', 'gnocchi', 'tasty', 'coke', 'pound', 'cauliflower', 'relish', 'fuji', 'twist', 'gemelli', 'shortgrain', 'crumbled', 'seasonall', 'desiccated', 'provence', 'leche', 'cornichon', 'imitation', 'cream', 'catfish', 'rome', 'menthe', 'gruyere', 'pickle', 'product', 'mineral', 'burger', 'maple', 'cutlet', 'dinner', 'ice', 'cereal', 'seltzer', 'chex', 'steel', 'bartlett', 'mafalda', 'plantains', 'breadstick', 'ovenroasted', 'twine', 'tenderizer', 'dulce', 'stewed', 'shoots', 'halva', 'lemonade', 'wings', 'tempeh', 'lobsters', 'pigeon', 'pear', 'velvet', 'southern', 'ale', 'spread', 'danish', 'sausages', 'miso', 'turnips', 'midori', 'kabocha', 'pecorino', 'butterc2ae', 'standing', 'dripping', 'sugarfree', 'chorizo', 'prime', 'crust', 'havarti', 'acid', 'noodles', 'canning', 'stirfry', 'fontina', 'salad', 'graham', 'rindless', 'chocolates', 'sorghum', 'cherries', 'au', 'wraps', 'chuck', 'wedges', 'marinated', 'redfish', 'rose27s', 'serve', 'courgettes', 'tia', 'pumpkin', 'avocado', 'oat', 'decorator', 'honey', 'ham', 'tips', 'farmer', 'sloppy', 'flageolet', 'matzos', 'shallots', 'collard', 'coating', 'brie', 'burrito', 'cane', 'fleur', 'sel', 'potato', 'mango', 'nut', 'glazed', 'amarula', 'chop', '922', 'kombu', 'soy', 'lemoninfused', 'sirloin', 'captain', 'cones', 'cassis', 'fashioned', 'bottled', 'fraiche', 'leek', 'arugula', 'butterflavored', 'margarita', 'nonalcoholic', 'oyster', '9inch', 'galangal', 'kikkoman', '6inch', 'drink', 'vinegar', 'shortcake', 'plantain', 'flatleaf', 'split', 'hickory', 'sparerib', 'sourdough', 'turnip', 'breakfast', 'halves', 'manicotti', 'zesty', 'cayenne', 'barrel', 'canadian', 'mccormickc2ae', 'bottom', 'applesauce', 'full', 'nosaltadded', 'real', 'spam', 'peppercorn', 'limes', 'rotel', 'lemon2c', 'cakes', 'link', 'macaroni', 'artichoke', 'deli', 'mirin', 'urad', 'flat', 'crabmeat', 'fudge', 'machine', 'fivespice', 'fatfree', 'pepperoncini', 'basmati', 'mung', 'broccoli', 'preserves', 'irish', 'parchment', 'snails', 'silken', 'countrystyle', 'noodle', 'ravioli', 'honeydew', 'selfraising', 'naturalstyle', 'masa', 'clams', 'pears', 'raisins', 'pulp', 'mild', 'bass', 'brioche', 'beverage', 'vie', 'meat', 'broken', 'wafer', 'artificial', 'rolls', 'fast', 'flank', 'grigio', 'pico', 'chinese', 'cornmeal', 'jellied', 'prune', 'scotch', 'smooth', 'edible', 'pickles', 'pop', 'doritos', 'sharp', 'rabbits', 'barbecue', '125', 'kasuri', 'jerk', 'xylitol', 'natural', 'kaiser', 'quinoa', 'market', 'mix', 'shoulder', 'passata', 'pork', 'sundried', 'pepe', 'starters', 'poblano', 'tidbits', 'jaggery', 'pickled', 'miracle', 'peppers', 'cajun', 'crabs', 'it27s', 'glitter', 'butter', 'orange', 'chard', 'foster', 'roasting', 'gai', 'paste', 'gummy', 'powdered', 'equal', 'protein', 'fillets', 'soya', 'crusty', 'glutinous', 'omega', 'chimayo', 'bonnet', 'scapes', 'sunburst', 'daniels', 'unbleached', 'tahini', 'sugar', 'longhorn', 'cheesecloth', 'chipotleflavored', 'toasted', 'grainy', 'breasts', 'jamaican', 'croissant', 'time', 'kiwi', 'choy', 'microwave', 'bath', 'spicy', 'coriander', 'maca', 'cranberries', 'sweetened', 'whites', 'dr', 'jalapeno', 'old', 'russet', 'radishes', 'links', 'pancakes', 'brown', 'buffalo', 'bulb', 'marinara', 'roast', 'fruitcake', 'guinness', 'bread', 'quickcooking', 'sea', 'matesc2ae', 'olive', 'smoke', 'gyoza', 'blackberries', 'season', 'morel', 'cinnamon', 'elderflower', 'cubed', 'marshmallow', 'san', 'wellfleet', 'granule', 'cambozola', 'tony', 'without', 'oatmeal', 'herb', 'cups', 'snickers', 'pinto', 'dayold', 'walnuts', 'grain', 'triscuit', 'cremini', '225', 'bisto', 'capellini', 'flakes', 'waffles', 'nutter', 'ring', 'seeds', 'grape', 'salami', 'lopez', 'panko', 'hazelnuts', 'sec', 'biscuits', 'extract', 'bicarbonate', 'jerusalem', 'texmex', 'ketjap', 'recipe', 'creamed', '7up', 'blossom', 'pectin', 'stew', 'garni', 'polenta', 'scallion', 'mein', 'egg', 'patty', '43', 'good', 'lingonberries', 'can27t', 'comfort', 'asafoetida', 'lemonlime', 'dash', 'bulk', 'stuffed', 'roma', 'kraft', 'honeyroasted', 'beans', 'napa', 'peaches', 'peppadew', 'parma', 'eggplants', 'chachere27s', 'thai', 'goose', 'gluten', 'bbq', 'bengal', 'sprouts', 'jasmine', 'gelling', 'southwest', 'bibb', 'navel', 'soybeans', 'nectarine', 'sauerkraut', 'five', 'skirt', 'curd', 'vegetables', 'flaky', 'hard', 'worms', 'duncan', 'turmeric', 'shortbread', 'frying', 'blend', 'scallops', 'fastrising', 'squid', 'quarters', 'cracker', 'goji', 'unsweetened', 'mache', 'adobo', 'tender', 'lager', 'racks', 'blackeyed', 'currants', 'alphonso', 'lobster', 'sriracha', 'bun', 'gamba', 'grill', 'needles', 'winter', 'legs', 'goldfish', 'rigatoni', 'soba', 'shoepeg', 'root', 'blade', 'crumbles', 'blackstrap', 'whey', 'bone', 'master', 'blanc', 'teff', 'frozen', 'canes', 'creme', 'dungeness', 'licor', 'unpopped', 'capsicum', 'brownie', 'guava', 'ginger', 'bruschetta', 'walnut', 'bavarian', 'gram', 'dijon', 'roasted', 'kohlrabi', 'clam', 'manchego', 'coco', 'candies', 'bratwursts', 'swirl', 'lard', 'frosting', 'minute', 'thighs', 'whipping', 'frisee', 'orangeflavored', 'cocktail', 'shells', 'longgrain', 'crayfish', 'back', 'plump26reg3b', 'prunes', 'trout', 'mahleb', 'catsup', 'straw', 'distilled', 'macadamia', 'loaf', 'braggs', 'kidney', 'boiled', 'guavas', 'suey', 'cucumbers', 'buckwheat', 'cottage', 'onion', 'freshly', 'dates', 'prickly', 'deer', 'inch', 'partskim', 'craisins', 'tomato', 'pineapple', 'salmon', 'tops', 'kalamata', 'kale', 'pimientos', 'margarine', 'crystal', 'file', 'for', 'trimmings', 'chunky', 'bisquick', 'toothpick', 'chiligarlic', 'chunks', 'chickpeas', 'macaroons', 'curls', 'anaheim', 'chardonnay', 'philadelphia', 'kisses', 'pistachios', 'creamy', 'sarda', 'banana', 'sheet', 'twists', 'limeade', 'ranch', 'vermicelli', 'cranberryorange', 'crumbs', 'vidalia', 'tuscan', 'chow', 'or', 'mates', 'mexico', 'carbonated', 'tangerines', 'crystals', 'jarlsberg', 'oldfashioned', 'mediumdry', 'vanillaflavored', 'hair', 'hungarian', 'beetroots', 'peppercorns', 'buttered', 'gravy', 'calvados', 'lasagna', 'artichokes', '6825', 'kitchen', 'pinot', 'barley', 'alfredo', 'spears', 'ditalini', 'cornflour', 'asparagus', 'smart', 'scrambler', 'bucatini', 'prepared', 'dijonstyle', 'lime2c', 'pine', 'granular', 'curry', 'granola', 'dairyfree', 'kirsch', 'chunk', 'mustard', 'harina', 'concentrate', 'candied', 'shrimp', 'cavenders', 'diced', 'pure', 'blood', 'base', 'bechamel', 'amino', 'elbow', 'sesame', 'seedless', 'cheese', 'fruit', 'paper', 'allpurpose', 'converted', 'acorn', 'gumbo', 'request', 'jam', 'montreal', 'nonfat', 'breadcrumb', 'ear', 'chive', 'low', 'hersheys', 'halibut', 'bubbles', 'seasons', 'marzano', 'caramelswirl', 'oscar', 'japanese', 'venison', 'animal', 'cabernet', 'ras', 'eye', 'fine', '9grain', 'self', 'section', 'shaped', 'dogs', 'allspice', 'bouillon', 'extra', 'oats', 'dessert', 'northern', 'instant', 'freerange', 'fajita', 'tamarind', 'kumara', 'colada', 'reese27s', 'adzuki', 'foie', 'nuts', 'strip', 'chips', 'radiatore', 'lemongrass', 'dip', 'thin', 'teriyaki', 'limes2c', 'citron', 'cranberryraspberry', 'wild', 'flake', 'live', 'chiles', 'carrot', 'strawberry', 'consomme', 'frankfurters', 'bratwurst', 'vermouth', 'brinecured', 'gherkins', 'muscovado', 'grand', 'mixed', 'packed', 'scallop', 'substitute', 'dill', 'carnation', 'jello', 'pot', 'chicory', 'confectioners27', 'black', 'hamburger', 'pla', 'lentils', 'bark', 'radish', 'saltine', 'snow', 'blanched', 'wide', 'espresso', 'oranges', 'english', 'new', 'extralight', 'crispix', 'starch', 'galanga', 'glaze', 'crema', 'gouda', 'greens', 'dijonnaise', 'tortellini', 'shimeji', 'doublecrust', 'thread', 'cheddar', 'sodium', 'golden', 'rotini', 'squares', 'baja', 'chocolateflavor', 'pack', 'balls', 'roti', 'veal', 'shallot', 'bell', 'bean', 'brand', 'livers', 'creamstyle', 'slice', 'pita', 'backfin', 'lightly', 'cornish', 'cinnamonsugar', 'processed', 'coloring', 'star', 'nosugarneeded', 'readytobake', 'farms26reg3b', 'bloody', 'hocks', 'pea', 'laughing', 'flounder', 'linguine', 'breast', 'original', 'jelly', 'yogurtcovered', 'cashews', 'rau', 'arbol', 'noboil', 'superfine', 'half', 'tortilla', 'oatrim', 'firm', 'godiva', 'smoked', 'yukon', 'hormel', 'bay', 'orzo', 'fresh', 'granules', 'mexican', 'puffed', 'sage', 'chocolate', 'carob', 'medal', 'hardboiled', 'pretzels', 'breads', 'fourcheese', 'stock', 'saltines', 'caps', 'giblets', 'mrs', 'lavender', 'herbs', 'escarole', 'avocados', 'london', 'strong', 'sultana', 'minced', 'shanks', 'vodka', 'habanero', 'stout', 'calimyrna', 'picante', 'sweetener', 'rhubarb', 'coleslaw', 'apricots', 'kernels', 'veggie', 'polish', 'buddig', 'bagels', 'mcintosh', 'kefir', 'biscuit', 'tea', 'chickenflavored', 'pops', 'schnapps', 'bitters', 'simple', 'corned', 'xxxx', 'replacement', 'spiced', 'capsicums', 'powder', 'one', 'cooking', 'notransfat', 'neck', 'stewing', 'knorr', 'petals', 'wasabi', 'morningstar', 'decorative', 'natvia', 'rum', 'blossoms', 'seed', 'coleman27s', 'butterflied', 'creole', 'bittersweet', 'spices', 'rosemary', 'yoghurt', 'paraffin', 'manis', 'saffron', 'shoot', 'carrots', 'banane', 'stale', 'joe', 'dulse', 'jumbo', 'roquefort'}\n"
          ]
        }
      ]
    },
    {
      "cell_type": "code",
      "source": [
        "from collections import defaultdict\n",
        "def find_words_freq(words):\n",
        "  word_dict = defaultdict(float) # key: word, value: word frequency in the doc\n",
        "  for word in words:\n",
        "    word_dict[word] += 1\n",
        "  return word_dict"
      ],
      "metadata": {
        "id": "RRJ5fKPNii2s"
      },
      "execution_count": 59,
      "outputs": []
    },
    {
      "cell_type": "code",
      "source": [
        "class Node:\n",
        "    def __init__(self ,docId, freq = None):\n",
        "        self.freq = freq\n",
        "        self.doc = docId\n",
        "        self.nextval = None\n",
        "    \n",
        "class SlinkedList:\n",
        "    def __init__(self ,head = None):\n",
        "        self.head = head"
      ],
      "metadata": {
        "id": "t8tivvDgilNZ"
      },
      "execution_count": 60,
      "outputs": []
    },
    {
      "cell_type": "code",
      "source": [
        "# Linkedlist for posting list\n",
        "linked_list_data = dict()\n",
        "for word in unique_words_all:\n",
        "    linked_list_data[word] = SlinkedList()\n",
        "    linked_list_data[word].head = Node(0,Node)\n",
        "word_freq_in_doc = dict()\n",
        "for idx, ingre_lst in enumerate(ingredients):\n",
        "  words = []\n",
        "  for ingre in ingre_lst:\n",
        "    ingre = ingre[1:-1] # remove apostrophe\n",
        "    ingre = remove_special_characters(ingre).lower()\n",
        "    for word in ingre.split():\n",
        "      words.append(word)\n",
        "  word_freq_in_doc = find_words_freq(words)\n",
        "  for word in word_freq_in_doc.keys():\n",
        "      linked_list = linked_list_data[word].head\n",
        "      while linked_list.nextval is not None:\n",
        "          linked_list = linked_list.nextval\n",
        "      linked_list.nextval = Node(idx ,word_freq_in_doc[word])"
      ],
      "metadata": {
        "id": "IHZ196uUmnS8"
      },
      "execution_count": 61,
      "outputs": []
    },
    {
      "cell_type": "markdown",
      "source": [
        "### Search Engine"
      ],
      "metadata": {
        "id": "9v0nsIXdFOm6"
      }
    },
    {
      "cell_type": "code",
      "source": [
        "import time\n",
        "import numpy as np\n",
        "\n",
        "def search(query):\n",
        "  query = word_tokenize(query)\n",
        "  boolean_words = []\n",
        "  input_inredients = []\n",
        "  for word in query:\n",
        "      if word.lower() != \"and\" and word.lower() != \"or\" and word.lower() != \"not\":\n",
        "          input_inredients.append(word.lower())\n",
        "      else:\n",
        "          boolean_words.append(word.lower())\n",
        "  print('Input ingredients: ',input_inredients)\n",
        "\n",
        "  total_dishes = len(ingredients)\n",
        "  boolean_each = []\n",
        "  boolean_matrix = []\n",
        "  for word in (input_inredients):\n",
        "      if word.lower() in unique_words_all:\n",
        "          boolean_each = [0] * total_dishes\n",
        "          linkedlist = linked_list_data[word].head\n",
        "          while linkedlist.nextval is not None:\n",
        "              boolean_each[linkedlist.nextval.doc] = 1\n",
        "              linkedlist = linkedlist.nextval\n",
        "          boolean_matrix.append(boolean_each)\n",
        "      else:\n",
        "          print(word,\" not found\")\n",
        "          sys.exit()\n",
        "\n",
        "  for word in boolean_words: \n",
        "      if word == \"and\":\n",
        "        bitwise_op = [np.bitwise_and.reduce(words) for words in zip(*boolean_matrix[:2])]\n",
        "        boolean_matrix.pop(0)\n",
        "        boolean_matrix.pop(0)\n",
        "        boolean_matrix.insert(0, bitwise_op)\n",
        "      elif word == \"or\":\n",
        "        bitwise_op = [np.bitwise_or.reduce(words) for words in zip(*boolean_matrix[:2])]\n",
        "        boolean_matrix.pop(0)\n",
        "        boolean_matrix.pop(0)\n",
        "        boolean_matrix.insert(0, bitwise_op)\n",
        "      elif word == \"not\":\n",
        "        bitwise_op = [np.bitwise_not.reduce(words) for words in zip(*boolean_matrix[:2])]\n",
        "        boolean_matrix.pop(0)\n",
        "        boolean_matrix.pop(0)\n",
        "        boolean_matrix.insert(0, bitwise_op)\n",
        "\n",
        "  output_list = boolean_matrix[0]\n",
        "  output_dishes =[]\n",
        "  for i in range(len(output_list)):\n",
        "    if output_list[i] == 1:\n",
        "      output_dishes.append(i)\n",
        "\n",
        "  return output_dishes\n"
      ],
      "metadata": {
        "id": "4uJaV2MzB0qD"
      },
      "execution_count": 62,
      "outputs": []
    },
    {
      "cell_type": "code",
      "source": [
        "query = input('Enter your query:')\n",
        "start = time.time()\n",
        "output = search(query)\n",
        "end = time.time()\n",
        "print('Runtime{: .4f}s'.format(end-start))\n",
        "print('Output  list of document ids: ',output)\n",
        "for id in output:\n",
        "  print('Dish name:', df2.iloc[id]['name'])\n",
        "  print('Dish id:',id)\n",
        "  print('Dish ingredients: ', df2.iloc[id]['ingredients'])\n",
        "  print('Dish steps:',df2.iloc[id]['steps'],'\\n')"
      ],
      "metadata": {
        "colab": {
          "base_uri": "https://localhost:8080/"
        },
        "id": "dp83jhO-sLCh",
        "outputId": "cbdfc7b1-6a17-493d-c2bc-fd18d9e7be54"
      },
      "execution_count": 63,
      "outputs": [
        {
          "output_type": "stream",
          "name": "stdout",
          "text": [
            "Enter your query:rice and pork and water\n",
            "Input ingredients:  ['rice', 'pork', 'water']\n",
            "Runtime 0.0382s\n",
            "Output  list of document ids:  [292, 1943, 3738, 4096]\n",
            "Dish name: Vegetable - Pork   Stir   Fry\n",
            "Dish id: 292\n",
            "Dish ingredients:  [\"'garlic'\", \"'cornstarch'\", \"'pineapple juice'\", \"'water'\", \"'reduced sodium soy sauce'\", \"'fresh broccoli florets'\", \"'canola oil'\", \"'carrot'\", \"'red bell pepper'\", \"'pork tenderloin'\", \"'baby corn'\", \"'peanuts'\", \"'scallion'\", \"'cooked rice'\"]\n",
            "Dish steps: ['Put 1 tablespoon of cornstarch in a large plastic ziplock bag.', 'Add the pork, seal bag and shake until pork is coated.', 'Sauce: In a bowl, whisk soy sauce,water, garlic,juice and the remaining 1 tablespoon cornstarch until blended.', 'Heat 2 teaspoon of oil in a nonstick skillet over medium- high heat until oil is hot.', 'Add pork, stir-fry 3 or 4 minutes until lightly browned and cooked through.', 'Remove and set aside.', 'Heat remaining 2 teaspoon oil in skillet, add pepper, broccoli,carrots and stir fry for 5 minutes or until crisp-tender.', 'Stir sauce to reblend, add to skillet and bring to a boil.', 'Simmer 30 seconds until thickened.', 'Stir in corn and pork, heat though.', 'Sprinkle with peanuts and scallions.'] \n",
            "\n",
            "Dish name: Italian Style Pork Chops\n",
            "Dish id: 1943\n",
            "Dish ingredients:  [\"'pork chops'\", \"'salt and pepper'\", \"'vegetable oil'\", \"'green bell peppers'\", \"'tomato sauce'\", \"'italian-style stewed tomatoes'\", \"'water'\", \"'onion'\", \"'italian seasoning'\", \"'salt'\", \"'pepper'\", \"'garlic clove'\", \"'worcestershire sauce'\", \"'brown rice'\"]\n",
            "Dish steps: ['Sprinkle pork chops with a little salt and pepper.', 'Brown chops on both sides in oil in skillet over medium heat.', 'Remove chops from skillet; drain and set aside.', 'Cut the top off of 1 bell pepper; remove the seeds.', 'Cut six 1/4 -inch thick rings from the other bell pepper; set aside.', 'Seed and chop remaining bell pepper.', 'Combine chopped green pepper, tomato sauce, stewed tomatoes, water, onion, Italian seasoning, salt, pepper, garlic, and Worcestershire sauce in a large bowl and mix well.', 'Spread rice evenly in a lightly greased 9x13 inch baking pan.', 'Slowly pour tomato mixture over rice.', 'Arrange pork chops over the rice mixture.', 'Top each pork chop with a pepper ring.', 'Bake uncovered at 350 degrees Fahrenheit for 1  hour or until rice is tender.'] \n",
            "\n",
            "Dish name: Gyoza\n",
            "Dish id: 3738\n",
            "Dish ingredients:  [\"'cabbage'\", \"'ground pork'\", \"'japanese soy sauce'\", \"'sesame oil'\", \"'mirin'\", \"'green onion'\", \"'ginger'\", \"'mushroom'\", \"'peanut oil'\", \"'hot water'\", \"'gyoza skins'\", \"'japanese soy sauce'\", \"'rice wine vinegar'\", \"'sesame oil'\"]\n",
            "Dish steps: ['Cook cabbage in a small amount of boiling salted water until tender.', 'Squeeze out all liquid and mince fine.', 'Chop mushroom.', 'Mix soy sauce, sesame oil, Mirin, pork, green onion, ginger, mushroom, and cabbage.', 'Refrigerate for 1 hour or more.', 'Place a scant teaspoon of mixture on each gyoza skin.', 'Moisten edges with cornstarch and water, fold over and seal.', 'Crimp edges with a fork.', 'Cover bottom of a large non-stick skillet with oil.', 'Brown the gyoza over medium heat (350 degrees) turning frequently.', 'Add 1/4 c water to skillet, cover and steam on low heat 7 minutes.', 'Stir often to prevent sticking.', 'Remove cover, raise heat and cook for 2 minutes until crisp.', 'Gyoza may be prepared in advance or frozen.', 'Lay them in a single layer on a greased cookie sheet, and cover with greased paper.', 'Thaw before cooking.'] \n",
            "\n",
            "Dish name: Pork Chops &amp; Rice\n",
            "Dish id: 4096\n",
            "Dish ingredients:  [\"'pork chops'\", \"'oil'\", \"'cream of mushroom soup'\", \"'milk'\", \"'water'\", \"'white rice'\", \"'pepper'\"]\n",
            "Dish steps: ['Brown pork chops in oil then place in large baking dish or roaster.', 'While browning, mix soup, milk and water in large bowl.', 'Pour rice over chops, then pour soup mixture over all. Sprinkle with pepper according to taste.', 'Cover with foil and bake at 350 degrees Fahrenheit for 1 hr or until tender.'] \n",
            "\n"
          ]
        }
      ]
    },
    {
      "cell_type": "markdown",
      "source": [
        "## Evaluation"
      ],
      "metadata": {
        "id": "Na8qOVoi-FLX"
      }
    },
    {
      "cell_type": "code",
      "source": [
        "# Time\n",
        "print('Runtime{: .4f}s'.format(end-start))"
      ],
      "metadata": {
        "colab": {
          "base_uri": "https://localhost:8080/"
        },
        "id": "9z4J5Fn1AXtu",
        "outputId": "ba2124c4-bb5d-4475-af49-8cbd2f121df2"
      },
      "execution_count": 64,
      "outputs": [
        {
          "output_type": "stream",
          "name": "stdout",
          "text": [
            "Runtime 0.0382s\n"
          ]
        }
      ]
    }
  ]
}