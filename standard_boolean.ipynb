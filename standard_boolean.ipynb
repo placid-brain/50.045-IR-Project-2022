{
  "nbformat": 4,
  "nbformat_minor": 0,
  "metadata": {
    "colab": {
      "name": "standard_boolean.ipynb",
      "provenance": [],
      "authorship_tag": "ABX9TyPufTm1O/WPZgDbSzRxcbjc",
      "include_colab_link": true
    },
    "kernelspec": {
      "name": "python3",
      "display_name": "Python 3"
    },
    "language_info": {
      "name": "python"
    }
  },
  "cells": [
    {
      "cell_type": "markdown",
      "metadata": {
        "id": "view-in-github",
        "colab_type": "text"
      },
      "source": [
        "<a href=\"https://colab.research.google.com/github/placid-brain/50.045-IR-Project-2022/blob/main/standard_boolean.ipynb\" target=\"_parent\"><img src=\"https://colab.research.google.com/assets/colab-badge.svg\" alt=\"Open In Colab\"/></a>"
      ]
    },
    {
      "cell_type": "code",
      "execution_count": 130,
      "metadata": {
        "colab": {
          "base_uri": "https://localhost:8080/"
        },
        "id": "JEO2I-bQw2Qf",
        "outputId": "b8d5ebfd-1634-4932-f39f-e560d9c13f34"
      },
      "outputs": [
        {
          "output_type": "stream",
          "name": "stdout",
          "text": [
            "Drive already mounted at /content/drive; to attempt to forcibly remount, call drive.mount(\"/content/drive\", force_remount=True).\n"
          ]
        }
      ],
      "source": [
        "from google.colab import drive\n",
        "drive.mount('/content/drive')"
      ]
    },
    {
      "cell_type": "code",
      "source": [
        "import pandas as pd\n",
        "df = pd.read_csv('drive/My Drive/IR/Info Retrieval Group Project/recipes_w_search_terms.csv', nrows=5000)\n",
        "df.shape"
      ],
      "metadata": {
        "colab": {
          "base_uri": "https://localhost:8080/"
        },
        "id": "JpHsvt_SxJ9b",
        "outputId": "58afb342-5009-462f-eef5-577c3a7a7481"
      },
      "execution_count": 131,
      "outputs": [
        {
          "output_type": "execute_result",
          "data": {
            "text/plain": [
              "(5000, 10)"
            ]
          },
          "metadata": {},
          "execution_count": 131
        }
      ]
    },
    {
      "cell_type": "code",
      "source": [
        "df.head()"
      ],
      "metadata": {
        "colab": {
          "base_uri": "https://localhost:8080/",
          "height": 337
        },
        "id": "yL2y3KSly3qK",
        "outputId": "af898215-fba6-472d-b8df-9e247f7cef22"
      },
      "execution_count": 132,
      "outputs": [
        {
          "output_type": "execute_result",
          "data": {
            "text/plain": [
              "       id                                   name  \\\n",
              "0   96313            Grilled Garlic Cheese Grits   \n",
              "1  232037  Simple Shrimp and Andouille Jambalaya   \n",
              "2   41090             black-and-white bean salad   \n",
              "3   60656             Crock Pot Italian Zucchini   \n",
              "4  232047          Beef Stew With Dried Cherries   \n",
              "\n",
              "                                         description  \\\n",
              "0  We love grits, this is another good way to ser...   \n",
              "1  Simple, easy and very tasty for when you are i...   \n",
              "2                                                NaN   \n",
              "3  This is a good recipe for weight watchers. It ...   \n",
              "4  This is a fabulous stew that came from one of ...   \n",
              "\n",
              "                                         ingredients  \\\n",
              "0  ['water', 'grits', 'salt', 'cheddar cheese', '...   \n",
              "1  ['onion', 'red bell pepper', 'garlic cloves', ...   \n",
              "2  ['white beans', 'canned black beans', 'tomatoe...   \n",
              "3  ['zucchini', 'yellow squash', 'diced tomatoes'...   \n",
              "4  ['beef stew meat', 'flour', 'salt', 'allspice'...   \n",
              "\n",
              "                                 ingredients_raw_str serving_size  servings  \\\n",
              "0  [\"4   cups    water\",\"1   cup   uncooked old f...    1 (155 g)         8   \n",
              "1  [\"1   medium    onion, chopped coarse \",\"1   m...    1 (366 g)         4   \n",
              "2  [\"1   cup   canned white beans, rinsed and dra...    1 (807 g)         1   \n",
              "3  [\"2       zucchini, sliced \",\"2   small    yel...    1 (244 g)         4   \n",
              "4  [\"3   lbs    beef stew meat\",\"3   tablespoons ...    1 (358 g)         8   \n",
              "\n",
              "                                               steps  \\\n",
              "0  ['I a sauce pan, bring water to a boil; slowly...   \n",
              "1  ['In a food processor, pulse the onion, red pe...   \n",
              "2  ['In a large bowl, combine beans, tomato, onio...   \n",
              "3  ['Put all ingredients in the crock pot and coo...   \n",
              "4  ['Preheat oven to 350°F.', \"Cut beef into 1 in...   \n",
              "\n",
              "                                                tags  \\\n",
              "0  ['time-to-make', 'course', 'main-ingredient', ...   \n",
              "1  ['60-minutes-or-less', 'time-to-make', 'course...   \n",
              "2  ['15-minutes-or-less', 'time-to-make', 'course...   \n",
              "3  ['weeknight', 'time-to-make', 'course', 'main-...   \n",
              "4  ['time-to-make', 'course', 'main-ingredient', ...   \n",
              "\n",
              "                                        search_terms  \n",
              "0  {'diabetic', 'low-calorie', 'vegetarian', 'low...  \n",
              "1                               {'dinner', 'shrimp'}  \n",
              "2  {'vegetarian', 'salad', 'side', 'dinner', 'veg...  \n",
              "3                  {'side', 'vegetarian', 'italian'}  \n",
              "4                                         {'dinner'}  "
            ],
            "text/html": [
              "\n",
              "  <div id=\"df-773898a0-ee6b-4309-80ca-929d6f459b55\">\n",
              "    <div class=\"colab-df-container\">\n",
              "      <div>\n",
              "<style scoped>\n",
              "    .dataframe tbody tr th:only-of-type {\n",
              "        vertical-align: middle;\n",
              "    }\n",
              "\n",
              "    .dataframe tbody tr th {\n",
              "        vertical-align: top;\n",
              "    }\n",
              "\n",
              "    .dataframe thead th {\n",
              "        text-align: right;\n",
              "    }\n",
              "</style>\n",
              "<table border=\"1\" class=\"dataframe\">\n",
              "  <thead>\n",
              "    <tr style=\"text-align: right;\">\n",
              "      <th></th>\n",
              "      <th>id</th>\n",
              "      <th>name</th>\n",
              "      <th>description</th>\n",
              "      <th>ingredients</th>\n",
              "      <th>ingredients_raw_str</th>\n",
              "      <th>serving_size</th>\n",
              "      <th>servings</th>\n",
              "      <th>steps</th>\n",
              "      <th>tags</th>\n",
              "      <th>search_terms</th>\n",
              "    </tr>\n",
              "  </thead>\n",
              "  <tbody>\n",
              "    <tr>\n",
              "      <th>0</th>\n",
              "      <td>96313</td>\n",
              "      <td>Grilled Garlic Cheese Grits</td>\n",
              "      <td>We love grits, this is another good way to ser...</td>\n",
              "      <td>['water', 'grits', 'salt', 'cheddar cheese', '...</td>\n",
              "      <td>[\"4   cups    water\",\"1   cup   uncooked old f...</td>\n",
              "      <td>1 (155 g)</td>\n",
              "      <td>8</td>\n",
              "      <td>['I a sauce pan, bring water to a boil; slowly...</td>\n",
              "      <td>['time-to-make', 'course', 'main-ingredient', ...</td>\n",
              "      <td>{'diabetic', 'low-calorie', 'vegetarian', 'low...</td>\n",
              "    </tr>\n",
              "    <tr>\n",
              "      <th>1</th>\n",
              "      <td>232037</td>\n",
              "      <td>Simple Shrimp and Andouille Jambalaya</td>\n",
              "      <td>Simple, easy and very tasty for when you are i...</td>\n",
              "      <td>['onion', 'red bell pepper', 'garlic cloves', ...</td>\n",
              "      <td>[\"1   medium    onion, chopped coarse \",\"1   m...</td>\n",
              "      <td>1 (366 g)</td>\n",
              "      <td>4</td>\n",
              "      <td>['In a food processor, pulse the onion, red pe...</td>\n",
              "      <td>['60-minutes-or-less', 'time-to-make', 'course...</td>\n",
              "      <td>{'dinner', 'shrimp'}</td>\n",
              "    </tr>\n",
              "    <tr>\n",
              "      <th>2</th>\n",
              "      <td>41090</td>\n",
              "      <td>black-and-white bean salad</td>\n",
              "      <td>NaN</td>\n",
              "      <td>['white beans', 'canned black beans', 'tomatoe...</td>\n",
              "      <td>[\"1   cup   canned white beans, rinsed and dra...</td>\n",
              "      <td>1 (807 g)</td>\n",
              "      <td>1</td>\n",
              "      <td>['In a large bowl, combine beans, tomato, onio...</td>\n",
              "      <td>['15-minutes-or-less', 'time-to-make', 'course...</td>\n",
              "      <td>{'vegetarian', 'salad', 'side', 'dinner', 'veg...</td>\n",
              "    </tr>\n",
              "    <tr>\n",
              "      <th>3</th>\n",
              "      <td>60656</td>\n",
              "      <td>Crock Pot Italian Zucchini</td>\n",
              "      <td>This is a good recipe for weight watchers. It ...</td>\n",
              "      <td>['zucchini', 'yellow squash', 'diced tomatoes'...</td>\n",
              "      <td>[\"2       zucchini, sliced \",\"2   small    yel...</td>\n",
              "      <td>1 (244 g)</td>\n",
              "      <td>4</td>\n",
              "      <td>['Put all ingredients in the crock pot and coo...</td>\n",
              "      <td>['weeknight', 'time-to-make', 'course', 'main-...</td>\n",
              "      <td>{'side', 'vegetarian', 'italian'}</td>\n",
              "    </tr>\n",
              "    <tr>\n",
              "      <th>4</th>\n",
              "      <td>232047</td>\n",
              "      <td>Beef Stew With Dried Cherries</td>\n",
              "      <td>This is a fabulous stew that came from one of ...</td>\n",
              "      <td>['beef stew meat', 'flour', 'salt', 'allspice'...</td>\n",
              "      <td>[\"3   lbs    beef stew meat\",\"3   tablespoons ...</td>\n",
              "      <td>1 (358 g)</td>\n",
              "      <td>8</td>\n",
              "      <td>['Preheat oven to 350°F.', \"Cut beef into 1 in...</td>\n",
              "      <td>['time-to-make', 'course', 'main-ingredient', ...</td>\n",
              "      <td>{'dinner'}</td>\n",
              "    </tr>\n",
              "  </tbody>\n",
              "</table>\n",
              "</div>\n",
              "      <button class=\"colab-df-convert\" onclick=\"convertToInteractive('df-773898a0-ee6b-4309-80ca-929d6f459b55')\"\n",
              "              title=\"Convert this dataframe to an interactive table.\"\n",
              "              style=\"display:none;\">\n",
              "        \n",
              "  <svg xmlns=\"http://www.w3.org/2000/svg\" height=\"24px\"viewBox=\"0 0 24 24\"\n",
              "       width=\"24px\">\n",
              "    <path d=\"M0 0h24v24H0V0z\" fill=\"none\"/>\n",
              "    <path d=\"M18.56 5.44l.94 2.06.94-2.06 2.06-.94-2.06-.94-.94-2.06-.94 2.06-2.06.94zm-11 1L8.5 8.5l.94-2.06 2.06-.94-2.06-.94L8.5 2.5l-.94 2.06-2.06.94zm10 10l.94 2.06.94-2.06 2.06-.94-2.06-.94-.94-2.06-.94 2.06-2.06.94z\"/><path d=\"M17.41 7.96l-1.37-1.37c-.4-.4-.92-.59-1.43-.59-.52 0-1.04.2-1.43.59L10.3 9.45l-7.72 7.72c-.78.78-.78 2.05 0 2.83L4 21.41c.39.39.9.59 1.41.59.51 0 1.02-.2 1.41-.59l7.78-7.78 2.81-2.81c.8-.78.8-2.07 0-2.86zM5.41 20L4 18.59l7.72-7.72 1.47 1.35L5.41 20z\"/>\n",
              "  </svg>\n",
              "      </button>\n",
              "      \n",
              "  <style>\n",
              "    .colab-df-container {\n",
              "      display:flex;\n",
              "      flex-wrap:wrap;\n",
              "      gap: 12px;\n",
              "    }\n",
              "\n",
              "    .colab-df-convert {\n",
              "      background-color: #E8F0FE;\n",
              "      border: none;\n",
              "      border-radius: 50%;\n",
              "      cursor: pointer;\n",
              "      display: none;\n",
              "      fill: #1967D2;\n",
              "      height: 32px;\n",
              "      padding: 0 0 0 0;\n",
              "      width: 32px;\n",
              "    }\n",
              "\n",
              "    .colab-df-convert:hover {\n",
              "      background-color: #E2EBFA;\n",
              "      box-shadow: 0px 1px 2px rgba(60, 64, 67, 0.3), 0px 1px 3px 1px rgba(60, 64, 67, 0.15);\n",
              "      fill: #174EA6;\n",
              "    }\n",
              "\n",
              "    [theme=dark] .colab-df-convert {\n",
              "      background-color: #3B4455;\n",
              "      fill: #D2E3FC;\n",
              "    }\n",
              "\n",
              "    [theme=dark] .colab-df-convert:hover {\n",
              "      background-color: #434B5C;\n",
              "      box-shadow: 0px 1px 3px 1px rgba(0, 0, 0, 0.15);\n",
              "      filter: drop-shadow(0px 1px 2px rgba(0, 0, 0, 0.3));\n",
              "      fill: #FFFFFF;\n",
              "    }\n",
              "  </style>\n",
              "\n",
              "      <script>\n",
              "        const buttonEl =\n",
              "          document.querySelector('#df-773898a0-ee6b-4309-80ca-929d6f459b55 button.colab-df-convert');\n",
              "        buttonEl.style.display =\n",
              "          google.colab.kernel.accessAllowed ? 'block' : 'none';\n",
              "\n",
              "        async function convertToInteractive(key) {\n",
              "          const element = document.querySelector('#df-773898a0-ee6b-4309-80ca-929d6f459b55');\n",
              "          const dataTable =\n",
              "            await google.colab.kernel.invokeFunction('convertToInteractive',\n",
              "                                                     [key], {});\n",
              "          if (!dataTable) return;\n",
              "\n",
              "          const docLinkHtml = 'Like what you see? Visit the ' +\n",
              "            '<a target=\"_blank\" href=https://colab.research.google.com/notebooks/data_table.ipynb>data table notebook</a>'\n",
              "            + ' to learn more about interactive tables.';\n",
              "          element.innerHTML = '';\n",
              "          dataTable['output_type'] = 'display_data';\n",
              "          await google.colab.output.renderOutput(dataTable, element);\n",
              "          const docLink = document.createElement('div');\n",
              "          docLink.innerHTML = docLinkHtml;\n",
              "          element.appendChild(docLink);\n",
              "        }\n",
              "      </script>\n",
              "    </div>\n",
              "  </div>\n",
              "  "
            ]
          },
          "metadata": {},
          "execution_count": 132
        }
      ]
    },
    {
      "cell_type": "code",
      "source": [
        "def function(ini_list):\n",
        "  new_cell = ini_list.strip('][').split(', ')\n",
        "  for item in new_cell:\n",
        "    item = item.replace(\"'\",\"\")\n",
        "  return new_cell\n",
        "\n",
        "df['ingredients'] = df['ingredients'].apply(function)\n",
        "df2 = df[['id', 'name','ingredients','steps']]\n",
        "df2.head()"
      ],
      "metadata": {
        "colab": {
          "base_uri": "https://localhost:8080/",
          "height": 206
        },
        "id": "HNne-ycBz0ZH",
        "outputId": "378c57eb-f72d-4e7e-d783-530b8f0fb0dc"
      },
      "execution_count": 133,
      "outputs": [
        {
          "output_type": "execute_result",
          "data": {
            "text/plain": [
              "       id                                   name  \\\n",
              "0   96313            Grilled Garlic Cheese Grits   \n",
              "1  232037  Simple Shrimp and Andouille Jambalaya   \n",
              "2   41090             black-and-white bean salad   \n",
              "3   60656             Crock Pot Italian Zucchini   \n",
              "4  232047          Beef Stew With Dried Cherries   \n",
              "\n",
              "                                         ingredients  \\\n",
              "0  ['water', 'grits', 'salt', 'cheddar cheese', '...   \n",
              "1  ['onion', 'red bell pepper', 'garlic cloves', ...   \n",
              "2  ['white beans', 'canned black beans', 'tomatoe...   \n",
              "3  ['zucchini', 'yellow squash', 'diced tomatoes'...   \n",
              "4  ['beef stew meat', 'flour', 'salt', 'allspice'...   \n",
              "\n",
              "                                               steps  \n",
              "0  ['I a sauce pan, bring water to a boil; slowly...  \n",
              "1  ['In a food processor, pulse the onion, red pe...  \n",
              "2  ['In a large bowl, combine beans, tomato, onio...  \n",
              "3  ['Put all ingredients in the crock pot and coo...  \n",
              "4  ['Preheat oven to 350°F.', \"Cut beef into 1 in...  "
            ],
            "text/html": [
              "\n",
              "  <div id=\"df-9da0feed-b2ee-43db-beef-6b9b3e3e2929\">\n",
              "    <div class=\"colab-df-container\">\n",
              "      <div>\n",
              "<style scoped>\n",
              "    .dataframe tbody tr th:only-of-type {\n",
              "        vertical-align: middle;\n",
              "    }\n",
              "\n",
              "    .dataframe tbody tr th {\n",
              "        vertical-align: top;\n",
              "    }\n",
              "\n",
              "    .dataframe thead th {\n",
              "        text-align: right;\n",
              "    }\n",
              "</style>\n",
              "<table border=\"1\" class=\"dataframe\">\n",
              "  <thead>\n",
              "    <tr style=\"text-align: right;\">\n",
              "      <th></th>\n",
              "      <th>id</th>\n",
              "      <th>name</th>\n",
              "      <th>ingredients</th>\n",
              "      <th>steps</th>\n",
              "    </tr>\n",
              "  </thead>\n",
              "  <tbody>\n",
              "    <tr>\n",
              "      <th>0</th>\n",
              "      <td>96313</td>\n",
              "      <td>Grilled Garlic Cheese Grits</td>\n",
              "      <td>['water', 'grits', 'salt', 'cheddar cheese', '...</td>\n",
              "      <td>['I a sauce pan, bring water to a boil; slowly...</td>\n",
              "    </tr>\n",
              "    <tr>\n",
              "      <th>1</th>\n",
              "      <td>232037</td>\n",
              "      <td>Simple Shrimp and Andouille Jambalaya</td>\n",
              "      <td>['onion', 'red bell pepper', 'garlic cloves', ...</td>\n",
              "      <td>['In a food processor, pulse the onion, red pe...</td>\n",
              "    </tr>\n",
              "    <tr>\n",
              "      <th>2</th>\n",
              "      <td>41090</td>\n",
              "      <td>black-and-white bean salad</td>\n",
              "      <td>['white beans', 'canned black beans', 'tomatoe...</td>\n",
              "      <td>['In a large bowl, combine beans, tomato, onio...</td>\n",
              "    </tr>\n",
              "    <tr>\n",
              "      <th>3</th>\n",
              "      <td>60656</td>\n",
              "      <td>Crock Pot Italian Zucchini</td>\n",
              "      <td>['zucchini', 'yellow squash', 'diced tomatoes'...</td>\n",
              "      <td>['Put all ingredients in the crock pot and coo...</td>\n",
              "    </tr>\n",
              "    <tr>\n",
              "      <th>4</th>\n",
              "      <td>232047</td>\n",
              "      <td>Beef Stew With Dried Cherries</td>\n",
              "      <td>['beef stew meat', 'flour', 'salt', 'allspice'...</td>\n",
              "      <td>['Preheat oven to 350°F.', \"Cut beef into 1 in...</td>\n",
              "    </tr>\n",
              "  </tbody>\n",
              "</table>\n",
              "</div>\n",
              "      <button class=\"colab-df-convert\" onclick=\"convertToInteractive('df-9da0feed-b2ee-43db-beef-6b9b3e3e2929')\"\n",
              "              title=\"Convert this dataframe to an interactive table.\"\n",
              "              style=\"display:none;\">\n",
              "        \n",
              "  <svg xmlns=\"http://www.w3.org/2000/svg\" height=\"24px\"viewBox=\"0 0 24 24\"\n",
              "       width=\"24px\">\n",
              "    <path d=\"M0 0h24v24H0V0z\" fill=\"none\"/>\n",
              "    <path d=\"M18.56 5.44l.94 2.06.94-2.06 2.06-.94-2.06-.94-.94-2.06-.94 2.06-2.06.94zm-11 1L8.5 8.5l.94-2.06 2.06-.94-2.06-.94L8.5 2.5l-.94 2.06-2.06.94zm10 10l.94 2.06.94-2.06 2.06-.94-2.06-.94-.94-2.06-.94 2.06-2.06.94z\"/><path d=\"M17.41 7.96l-1.37-1.37c-.4-.4-.92-.59-1.43-.59-.52 0-1.04.2-1.43.59L10.3 9.45l-7.72 7.72c-.78.78-.78 2.05 0 2.83L4 21.41c.39.39.9.59 1.41.59.51 0 1.02-.2 1.41-.59l7.78-7.78 2.81-2.81c.8-.78.8-2.07 0-2.86zM5.41 20L4 18.59l7.72-7.72 1.47 1.35L5.41 20z\"/>\n",
              "  </svg>\n",
              "      </button>\n",
              "      \n",
              "  <style>\n",
              "    .colab-df-container {\n",
              "      display:flex;\n",
              "      flex-wrap:wrap;\n",
              "      gap: 12px;\n",
              "    }\n",
              "\n",
              "    .colab-df-convert {\n",
              "      background-color: #E8F0FE;\n",
              "      border: none;\n",
              "      border-radius: 50%;\n",
              "      cursor: pointer;\n",
              "      display: none;\n",
              "      fill: #1967D2;\n",
              "      height: 32px;\n",
              "      padding: 0 0 0 0;\n",
              "      width: 32px;\n",
              "    }\n",
              "\n",
              "    .colab-df-convert:hover {\n",
              "      background-color: #E2EBFA;\n",
              "      box-shadow: 0px 1px 2px rgba(60, 64, 67, 0.3), 0px 1px 3px 1px rgba(60, 64, 67, 0.15);\n",
              "      fill: #174EA6;\n",
              "    }\n",
              "\n",
              "    [theme=dark] .colab-df-convert {\n",
              "      background-color: #3B4455;\n",
              "      fill: #D2E3FC;\n",
              "    }\n",
              "\n",
              "    [theme=dark] .colab-df-convert:hover {\n",
              "      background-color: #434B5C;\n",
              "      box-shadow: 0px 1px 3px 1px rgba(0, 0, 0, 0.15);\n",
              "      filter: drop-shadow(0px 1px 2px rgba(0, 0, 0, 0.3));\n",
              "      fill: #FFFFFF;\n",
              "    }\n",
              "  </style>\n",
              "\n",
              "      <script>\n",
              "        const buttonEl =\n",
              "          document.querySelector('#df-9da0feed-b2ee-43db-beef-6b9b3e3e2929 button.colab-df-convert');\n",
              "        buttonEl.style.display =\n",
              "          google.colab.kernel.accessAllowed ? 'block' : 'none';\n",
              "\n",
              "        async function convertToInteractive(key) {\n",
              "          const element = document.querySelector('#df-9da0feed-b2ee-43db-beef-6b9b3e3e2929');\n",
              "          const dataTable =\n",
              "            await google.colab.kernel.invokeFunction('convertToInteractive',\n",
              "                                                     [key], {});\n",
              "          if (!dataTable) return;\n",
              "\n",
              "          const docLinkHtml = 'Like what you see? Visit the ' +\n",
              "            '<a target=\"_blank\" href=https://colab.research.google.com/notebooks/data_table.ipynb>data table notebook</a>'\n",
              "            + ' to learn more about interactive tables.';\n",
              "          element.innerHTML = '';\n",
              "          dataTable['output_type'] = 'display_data';\n",
              "          await google.colab.output.renderOutput(dataTable, element);\n",
              "          const docLink = document.createElement('div');\n",
              "          docLink.innerHTML = docLinkHtml;\n",
              "          element.appendChild(docLink);\n",
              "        }\n",
              "      </script>\n",
              "    </div>\n",
              "  </div>\n",
              "  "
            ]
          },
          "metadata": {},
          "execution_count": 133
        }
      ]
    },
    {
      "cell_type": "markdown",
      "source": [
        "make a search engine for ingredients which will show the name of dish and steps as the output"
      ],
      "metadata": {
        "id": "KBjGM0Js7oNq"
      }
    },
    {
      "cell_type": "code",
      "source": [
        "ingredients = df2['ingredients']\n",
        "ingredients.head()"
      ],
      "metadata": {
        "id": "YSDk5C12s2Ao",
        "colab": {
          "base_uri": "https://localhost:8080/"
        },
        "outputId": "6b424d11-b361-4719-bbcb-394a90859a44"
      },
      "execution_count": 146,
      "outputs": [
        {
          "output_type": "execute_result",
          "data": {
            "text/plain": [
              "0    ['water', 'grits', 'salt', 'cheddar cheese', '...\n",
              "1    ['onion', 'red bell pepper', 'garlic cloves', ...\n",
              "2    ['white beans', 'canned black beans', 'tomatoe...\n",
              "3    ['zucchini', 'yellow squash', 'diced tomatoes'...\n",
              "4    ['beef stew meat', 'flour', 'salt', 'allspice'...\n",
              "Name: ingredients, dtype: object"
            ]
          },
          "metadata": {},
          "execution_count": 146
        }
      ]
    },
    {
      "cell_type": "code",
      "source": [
        "# Finding the set of unique ingredients from all dishes\n",
        "all_ingredients = []\n"
      ],
      "metadata": {
        "id": "w2svWXkcZwUj"
      },
      "execution_count": 135,
      "outputs": []
    },
    {
      "cell_type": "markdown",
      "source": [
        "## Approach 1"
      ],
      "metadata": {
        "id": "enH9xWHUZXK-"
      }
    },
    {
      "cell_type": "code",
      "source": [
        "# def remove_special_characters(text):\n",
        "#     regex = re.compile('[^a-zA-Z0-9\\s]')\n",
        "#     text_returned = re.sub(regex,'',text)\n",
        "#     return text_returned"
      ],
      "metadata": {
        "id": "cnUb1B5paE62"
      },
      "execution_count": 136,
      "outputs": []
    },
    {
      "cell_type": "code",
      "source": [
        "# from collections import defaultdict\n",
        "# dictionary = {}     # key: ingredient, value: [postings list]\n",
        "# all_words_and_freq = defaultdict(float)\n",
        "# boolean_list = {} # ley: ingredient, value: boolean_list --> {word: [0,0,0,1,0,...]}\n",
        "# word_dict = defaultdict(lambda:defaultdict())# key: ingredient, value: posting dict, --> {word:{doc1:freq1, doc2:freq2}, ...}\n",
        "# for idx, ingre_list in enumerate(ingredients):\n",
        "#   # print(ingre_list)\n",
        "#   for ingre in ingre_list:\n",
        "#     ingre = ingre[1:-1]\n",
        "#     ingre = remove_special_characters(ingre).lower()\n",
        "#     # print(ingre)\n",
        "#     # posting_dict = defaultdict(float) #key: docID, value: frequency of word in the doc\n",
        "#     for word in ingre.split(): \n",
        "#       # posting_dict = defaultdict(float) #key: docID, value: frequency of word in the doc\n",
        "#       # posting_dict[idx] += 1\n",
        "#       print(word_dict[word])\n",
        "#       word_dict[word][idx] += 1\n",
        "#       # all_words_and_freq[word] += 1\n",
        "\n",
        "# print(word_dict)\n",
        "    "
      ],
      "metadata": {
        "id": "KskmjzWNZY8J"
      },
      "execution_count": 137,
      "outputs": []
    },
    {
      "cell_type": "code",
      "source": [
        "# boolean_dict = defaultdict()\n",
        "# for word, posting_dict in word_dict.items():\n",
        "#   boolean_list = [0]*len(ingredients)\n",
        "#   # print(word, posting_dict)\n",
        "#   print(posting_dict)\n",
        "#   for idx in range(len(ingredients)):\n",
        "#     # print(posting_dict[idx])\n",
        "#     if posting_dict[idx]!= 0.0: boolean_list[idx] = 1\n",
        "#   boolean_dict[word] = boolean_list\n",
        "# print(len(boolean_dict))\n",
        "# print(len(word_dict))\n",
        "# print(boolean_dict['water'])"
      ],
      "metadata": {
        "id": "PwPjz7vogU2-"
      },
      "execution_count": 138,
      "outputs": []
    },
    {
      "cell_type": "markdown",
      "source": [
        "## Approach 2"
      ],
      "metadata": {
        "id": "Pfc2xC6oZRoy"
      }
    },
    {
      "cell_type": "code",
      "source": [
        "import nltk\n",
        "from nltk.tokenize import word_tokenize\n",
        "import re\n",
        "import sys\n",
        "nltk.download('punkt')"
      ],
      "metadata": {
        "colab": {
          "base_uri": "https://localhost:8080/"
        },
        "id": "CQSO-Kc3kG-y",
        "outputId": "fd079d96-011f-4ff5-e819-ce8c260f99ed"
      },
      "execution_count": 159,
      "outputs": [
        {
          "output_type": "stream",
          "name": "stderr",
          "text": [
            "[nltk_data] Downloading package punkt to /root/nltk_data...\n",
            "[nltk_data]   Package punkt is already up-to-date!\n"
          ]
        },
        {
          "output_type": "execute_result",
          "data": {
            "text/plain": [
              "True"
            ]
          },
          "metadata": {},
          "execution_count": 159
        }
      ]
    },
    {
      "cell_type": "code",
      "source": [
        "from collections import defaultdict\n",
        "def find_words_freq(words):\n",
        "  word_dict = defaultdict(float) # key: word, value: word frequency in the doc\n",
        "  for word in words:\n",
        "    word_dict[word] += 1\n",
        "  return word_dict\n",
        "        \n",
        "def remove_special_characters(text):\n",
        "    regex = re.compile('[^a-zA-Z0-9\\s]')\n",
        "    text_returned = re.sub(regex,'',text)\n",
        "    return text_returned"
      ],
      "metadata": {
        "id": "RRJ5fKPNii2s"
      },
      "execution_count": 154,
      "outputs": []
    },
    {
      "cell_type": "code",
      "source": [
        "class Node:\n",
        "    def __init__(self ,docId, freq = None):\n",
        "        self.freq = freq\n",
        "        self.doc = docId\n",
        "        self.nextval = None\n",
        "    \n",
        "class SlinkedList:\n",
        "    def __init__(self ,head = None):\n",
        "        self.head = head"
      ],
      "metadata": {
        "id": "t8tivvDgilNZ"
      },
      "execution_count": 155,
      "outputs": []
    },
    {
      "cell_type": "code",
      "source": [
        "dictionary = {} #key: ingredient, value: [posting list]\n",
        "# unique_words_all = set()\n",
        "dict_global = {}\n",
        "for idx, ingre_lst in enumerate(ingredients):\n",
        "  words = []\n",
        "  for ingre in ingre_lst:\n",
        "    ingre = ingre[1:-1] # remove apostrophe\n",
        "    ingre = remove_special_characters(ingre).lower()\n",
        "    for word in ingre.split():\n",
        "      words.append(word)\n",
        "  dict_global.update(find_words_freq(words))\n",
        "    # unique_words_all.add(ingre)\n",
        "    # if ingre not in dictionary: dictionary[ingre] = [idx]\n",
        "    # else:\n",
        "    #   if dictionary[ingre][-1] != idx: dictionary[ingre].append(idx)\n",
        "\n",
        "unique_words_all = set(dict_global.keys())\n",
        "print(len(unique_words_all))\n",
        "print(unique_words_all)\n"
      ],
      "metadata": {
        "colab": {
          "base_uri": "https://localhost:8080/"
        },
        "id": "MHs78RaE927V",
        "outputId": "02ec61cf-d8fe-45d7-f940-949295a0d3be"
      },
      "execution_count": 156,
      "outputs": [
        {
          "output_type": "stream",
          "name": "stdout",
          "text": [
            "1996\n",
            "{'linguine', 'muenster', 'cucumbers', 'demerara', 'frozen', 'jello', 'snap', 'cornmeal', 'vegetables', 'aged', 'bananas', 'seasoning', 'streaky', 'soap', 'bittersweet', 'blossoms', 'trout', 'morningstar', 'shrimp', 'tofu', 'quick', 'drumsticks', 'garbanzo', 'thin', 'all', 'matzos', 'challah', 'prune', 'swiss', 'pantry26reg3b', 'calvados', 'dip', 'conch', 'gallo', 'gai', 'hoagie', 'velveeta', 'mayer', 'morton', 'chipolata', 'sunflower', 'sticky', 'sumac', '9inch', 'ham', 'madeira', 'cornflour', '3525', 'balsamic', 'udon', 'seasoned', 'con', 'genoa', '26', 'white', 'golden', 'ortega', 'cranberryraspberry', 'sesame', 'coconuts', 'chardonnay', 'bitters', 'longgrain', 'swirled', 'provolone', 'pitted', 'marinara', 'bottom', 'favorite', 'cap', 'tomatoes', 'belly', 'cornish', 'sultanas', 'tortillas', 'buns', 'whiskey', 'chervil', 'readytobake', 'mashed', 'slice', 'pomegranate', 'aminos', 'taco', 'cauliflower', 'substitute', 'glazed', 'philadelphia', 'york', 'iceberg', 'seaweed', 'prepared', 'bucatini', 'cups', 'kosher', 'cornichon', 'flounder', 'tart', 'rump', 'redfish', 'feta', 'soymilk', 'miso', 'brand', 'pea', 'packed', 'mexico', 'equal', 'muffins', 'dulse', 'methi', 'goat', 'macadamia', 'monterey', 'raisin', 'bing', 'pita', 'mexicorn', 'cointreau', 'lavender', 'or', 'rose27s', 'nuggets', 'sole', 'seed', 'replacement', 'brine', 'dash', 'crabmeat', 'velvet', 'chiles', 'avocados', 'bell', 'animal', 'waterpacked', 'hellmann27s', 'puff', 'dr', 'unpopped', '9', 'ketchup', 'toast', 'arils', 'meatloaf', 'boiled', 'jerusalem', 'kix', '57', 'strawberry', 'jamaican', 'grapenuts', 'texas', 'corn', 'dog', 'parmigiano', 'tangerines', 'pecans', 'grenadine', 'natural', 'nuts', 'hard', 'marzano', 'cakeandpastry', 'muscovado', 'tortilla', 'grigio', 'asiago', 'bags', 'skewer', 'poultry', 'applesauce', 'lowfat', 'peaches', 'fullcream', '43', 'grapefruits', 'urad', 'texmex', 'scallion', 'sliced', 'roasted', 'lillet', 'buddig', 'toothpicks', 'oilcured', 'rub', 'blackeyed', 'recipe', 'head', 'warm', 'limoncello', '922', 'gingergarlic', 'desiccated', 'leche', 'live', 'garlic', 'marrow', 'hash', 'kumquats', 'celery', 'gram', 'breasts', 'pod', 'ram', 'almonds', 'cloves', 'reese27s', 'heinz', 'chiligarlic', 'tempeh', 'vinegar', 'boiling', 'cumin', 'deli', 'chard', 'ear', 'neufchatel', 'cookies', 'biscuits', 'soybeans', 'cow', 'rocket', 'pumpkin', 'caper', 'partskim', 'beans', 'yoghurt', '9025', 'cardamom', 'carbonated', 'field', 'wonton', 'pla', 'pimentos', 'cavenders', 'sloppy', 'lite', 'oats', 'shoots', 'trimmings', 'colada', 'lamb', 'frankfurter', 'mafalda', 'tarragon', 'kirsch', 'paper', 'shortbread', 'dijon', 'cranberryorange', 'pam', 'classic', 'anjou', 'besan', 'mincemeat', '7up', 'chambord', 'on', 'machine', 'parsley', 'whitefish', 'rock', 'coating', 'livers', 'sugar', 'london', 'fried', 'basmati', 'hazelnut', 'marble', 'jellied', 'crawfish', 'burgundy', 'crackers', 'toothpick', 'nosugarneeded', 'sauce', 'rockfish', 'rabbit', 'caster', 'chocolatecovered', 'thread', 'raisins', 'flower', 'oka', 'minced', 'glitter', 'raclette', 'triple', 'butterflavored', 'dasheen', 'fuji', 'dungeness', 'tapenade', 'green', 'chicken', 'cracker', 'marshmallows', 'four', 'matesc2ae', 'beet', 'berries', 'mutton', 'cheddar', 'tequila', 'canadian', 'melba', 'bourbon', 'hoisin', 'almond', 'spelt', 'breaded', 'banana', 'blue', 'crumb', 'ravioli', 'limes', 'crumbles', 'rolls', 'cheese', 'sodium', 'date', 'lentil', 'nesquik', 'sponge', 'japanesestyle', 'oilflavored', 'fines', 'orecchiette', 'herbed', 'chile', 'maria', 'five', 'master', 'liqueur', 'fusion', 'silken', 'frying', 'dressing', 'bechamel', 'rutabaga', 'alfredo', 'butterhead', 'fregola', 'beef', 'fatfree', 'clarified', 'flaky', 'canola', 'plantains', 'dripping', 'gum', 'dark', 'butterc2ae', 'popcorn', 'dinner', 'ivory', 'wing', 'walnut', 'granny', 'de', 'noboil', 'centercut', 'sirloin', 'oatmeal', 'florets', 'drippings', 'syrup', 'mirin', 'shortcake', 'shreddies', 'cheesefilled', 'tuscan', 'believe', 'starter', 'ranch26reg3b', 'filling', 'fruit', 'grill', 'smoked', 'harissa', 'jerk', 'kahlua', 'praline', 'whipped', 'carnation', 'fastrising', 'kamaboko', 'bones', 'silver', 'beer', 'globe', 'soup', 'semisweet', 'chicory', 'loaf', 'kohlrabi', 'double', 'wide', 'curry', 'tenders', 'shelled', 'maca', 'bratwurst', 'muffuletta', 'koolaid', 'frenchfried', 'virgin', 'whites', 'onion', 'cornstarch', 'salmon', 'orientalflavor', 'italianstyle', 'medium', 'weed', 'boneless', 'orzo', 'napa', 'bouquet', 'arborio', 'pearl', 'strawberries', 'dijonnaise', 'endive', 'chuck', 'horseradish', 'idaho', 'cooked', 'nonfat', 'marsala', 'dish', 'wood', 'mojito', 'chanterelle', 'imitation', 'barley', 'beaters', 'buffalo', 'honeydew', 'ramen', 'tricolored', 'creme', 'nondairy', 'cocacola', 'polenta', 'pepperidge', 'essence', 'wedge', 'jasmine', 'bulgur', 'sarda', '1825', 'tots', 'cheesecloth', 'acorn', 'chat', 'courgette', 'vegemite', 'marnier', 'sauerkraut', 'southwest', 'pieces', 'angostura', 'lemons2c', 'popped', 'vermouth', 'broad', 'bruschetta', 'sweetener', 'chipotle', 'liver', 'tomatillos', 'kernel', 'preshredded', 'baby', 'pastrami', 'steaks', 'verde', 'extralight', 'butternut', 'sodiumfree', 'cornbread', 'caramelswirl', 'ziploc', 'pear', 'rum', 'limes2c', 'solid', 'masala', 'lager', 'maple', 'delicious', 'mussels', 'chinese', 'cremini', 'spam', 'reynolds', 'mixture', 'soba', 'devil27s', 'coleman27s', 'quickcooking', 'shortgrain', 'mangoes', 'ice', 'edible', 'tzatziki', 'deviled', 'shaped', 'icing', 'points', 'ras', 'amarula', 'threads', 'lobster', 'malted', 'cheez', 'morel', 'cassis', 'neck', 'nut', 'oldfashioned', 'ghee', 'sundried', 'foie', 'clams', 'cream', 'pimento', 'bartlett', 'swirl', 'chili', 'spice', 'balls', 'fruitcake', 'straw', 'mozzarella', 'pops', 'nonstick', 'aubergine', 'baked', 'lawry27s', 'extra', 'square', 'flake', 'jelly', 'parsnip', 'flavor', 'creamy', 'agave', 'grahams', 'pulp', 'crispix', 'crunchy', 'cottage', 'chops', 'enchilada', 'stewing', 'tartar', 'spread', 'lecithin', 'pistachios', 'cajun', 'seasonall', 'giardiniera', 'honey', 'blueberries', 'umbrellas', 'chex', 'bratwursts', 'mates', 'marinated', 'flour', 'patty', 'plantain', 'fudge', 'romaine', 'season', 'schnapps', 'club', 'elephant', 'coconut', 'skewers', 'farina', 'leather', 'market', 'cloth', 'allpurpose', 'granule', 'crystals', 'poppy', 'low', 'blade', 'm26m', 'sucanat', 'tahini', 'spaghetti', 'teriyaki', 'nutmeg', 'chipotleflavored', 'quinoa', 'sausage', 'adobo', 'bisto', 'slivered', 'pound', 'rotisseriecooked', 'avocado', 'hershey', 'breads', 'raspberrycranberry', 'water', 'splenda', 'fleur', 'crescent', 'krispies', 'savory', 'unsalted', 'mild', 'island', 'sauvignon', 'thigh', 'arrowroot', 'manicotti', 'halibut', 'best26reg3b', 'decorator', 'bolognese', 'cube', 'szechwan', 'brandy', 'bow', 'reducedfat', 'crouton', 'nonalcoholic', 'goddess', 'lardons', 'jam', 'cinnamonsugar', 'custard', 'dal', 'tomato', 'coleslaw', 'hair', 'broccoli', 'malt', 'chickenflavored', 'xanthan', 'condensed', 'bok', 'guavas', 'salsa', 'roma', 'yucca', 'chimayo', 'star', 'fajitasize', 'toor', 'allvegetable', 'style', 'stewed', 'whip', 'notransfat', 'pears', 'riesling', 'skirt', '27n', 'radiatore', 'spareribs', 'juices', 'pizza', 'athenos', 'candy', 'brummel', 'nacho', 'pretzels', 'sheet', 'pods', 'creamstyle', 'persimmons', 'slaw', 'buttermilk', 'pecan', 'brown', 'salted', 'nutmeats', 'extralarge', 'pecorino', 'scallops', 'distilled', 'diced', 'butterscotch', 'old', 'shallots', 'yukon', 'true', 'oleo', 'cucumber', 'chickens', 'fajita', 'traditional', 'tails', 'butt', 'powder', 'phyllo', 'pastina', 'garlicflavored', 'glace', 'soy', 'crystal', 'macaroni', 'seeds', 'turnip', 'giblets', 'doubleacting', 'champagne', '10025', 'tidbits', 'caramels', 'cocktail', 'northern', 'irish', 'crab', 'mushrooms', 'strawberryflavor', 'cranberries', 'oreo', 'valley26reg3b', 'unbleached', 'lemongrass', 'new', 'thyme', 'broil', 'cannellini', 'puree', 'shells', 'dashi', 'tabasco', 'fiber', 'thickened', 'stew', 'for', 'joe', 'flavored', 'brisket', 'japanese', 'waffles', 'poblano', 'crabs', 'starch', 'currants', 'v8', 'fivespice', 'acids', 'tony', 'pepperoni', 'thighs', 'spreadable', 'yuzu', 'snapper', 'soya', 'standing', 'healthy', 'breadstick', 'plus', 'grain', 'turnips', 'yogurt', 'carrots', 'one', 'reducedsodium', 'foster', 'manis', 'lemon2c', 'prickly', 'naturalstyle', 'strong', 'liquor', 'stirfry', 'fuyu', 'fashioned', 'coarse', 'fresco', 'grapes', 'firm', 'pot', 'saltine', 'lima', 'goji', 'burrito', 'bass', 'manchego', 'daniels', 'duck', 'long', 'nectar', 'yams', 'tablet', 'gorgonzola', 'mixed', 'tomatillo', 'jiffy', 'adzuki', 'capers', 'olive', 'knorr', 'oscar', 'relish', 'hamburger', 'unseasoned', 'tiny', 'rise', 'boboli', 'bark', 'croissant', 'coke', 'clam', 'amchur', 'asian', 'sparkling', 'grouper', 'sourdough', 'snow', 'preserved', 'jalapenos', 'processed', 'pickle', 'vert', 'in', 'grape', 'paprika', 'sazon', 'sparerib', 'groats', 'olives', 'spaghettini', 'sultana', 'worcestershire', 'lasagna', 'summer', 'provence', 'scallop', 'cut', 'ripe', 'chip', 'tamarind', 'kaffir', 'rome', 'zatarain27sc2ae', 'pickles', 'ducks', 'chestnuts', 'wheat', 'southern', 'plums', 'hocks', 'legsthighs', 'steak', 'gourd', 'bull', 'tap', 'rose', 'chopped', 'brazil', 'hearts', 'fine', 'creamed', 'dough', 'accent', 'gyoza', 'clear', 'leaves', 'colby', 'converted', 'blend', 'twists', 'tagliatelle', 'saltines', 'kalamata', 'organic', 'readymade', 'mineral', 'croissants', 'franks', 'heirloom', 'skins', 'agaragar', 'flaked', 'kasseri', 'stock', 'pastry', 'capellini', 'currant', 'hanout', 'licor', 'black', 'morsel', 'juniper', 'pico', 'round', 'farfalle', 'winecured', 'bubbles', 'mahleb', 'snacks', 'oat', 'dessert', 'roll', 'grey', 'lebanese', 'glutinousrice', 'cilantro', 'fourcheese', 'microwave', 'mole', 'nectarine', 'mein', 'unsweetened', 'grillers', 'sofrito', 'spices', 'slices', 'doughnuts', 'rindless', 'cherry', 'wings', 'lump', 'scape', 'kasuri', 'rings', 'lemoninfused', 'cinnamon', 'red', 'kumara', 'apple', 'kisses', 'decorative', 'pinto', 'gin', 'ditalini', 'tarts', 'vanillaflavored', 'hyssop', 'peppermint', 'wedges', 'kelp', 'rolo', 'ciabatta', 'anchovy', 'gherkins', 'passata', 'gold', 'sorghum', 'yolks', 'chives', 'sardines', 'saffron', 'veal', 'gingerroot', 'wine', 'parmigianoreggiano', 'granular', 'leek', 'sprinkles', 'okra', 'bagel', 'pasta', 'yolk', 'italian', 'plain', 'crust', 'deep', 'sake', 'basa', 'sandwich', 'avocadoes', 'bloody', 'pina', 'mache', 'chow', 'capsicums', 'lemonpepper', 'pie', 'rabe', 'parkay', 'guacamole', 'curls', 'cabernet', 'acid', 'watercress', 'enhancer', 'seville', 'needles', 'meatless', 'oyster', 'ziti', 'gruyere', 'dry', 'beets', 'bun', 'danish', 'pollock', 'karo', 'cardamoms', 'mccormick27s', '525', 'sel', 'chunks', 'rind', 'prawns', 'german', 'bottoms', 'tips', 'leave', 'crisco26reg3b', 'bibb', 'parsnips', 'bread', 'm26m27s', 'lipton', 'marshmallow', 'curd', 'superfine', 'cola', 'petals', 'confectioners27', 'crema', 'spinach', 'raspberries', 'broth', 'tamari', 'allspice', 'toasted', 'tail', 'fumet', 'salts', 'thai', 'margarita', 'chips', 'eau', 'medal', 'calimyrna', 'nestle', 'coloring', 'ladyfingers', 'quarters', 'bbq', 'baileys', 'vie', 'oil', 'turmeric', 'melon', 'england', 'sprouts', 'porcini', 'tie', 'lime2c', 'mortadella', 'mustardmayonnaise', 'bird27s', 'mushroom', 'chilis', 'mascarpone', 'roasting', 'catfish', 'teddy', 'ancho', 'halve', 'prosciutto', 'mace', 'doublecrust', 'baja', 'rotini', 'split', 'rounds', 'light', 'ovenroasted', 'noodle', 'espresso', 'leeks', 'tilapia', 'zucchini', 'garam', 'mexican', 'cocoa', 'turkey', 'halves', 'matzo', 'fryer', 'sevengrain', 'mary', 'courgettes', 'za27atar', 'whiz', 'fermented', 'stone', 'segments', 'scallions', 'malibu', 'jalapeno', 'reducedcalorie', 'palm', 'squid', 'wrap', 'reduced', 'semolina', '125', 'frank27s', 'chowder', 'lemon', 'oregano', 'radicchio', 'onions', 'russet', 'yeast', 'crookneck', 'bisquick', 'fingerling', 'rack', 'anaheim', 'preserves', 'homemade', 'section', 'thousand', 'artificial', 'tuna', 'button', 'smart', 'omega', 'spanish', 'alphonso', 'xrated', 'milk', 'sweet', 'bavarian', 'barbecue', 'paste', 'selfraising', 'erythritol', 'casera', 'lobsters', 'crispy', 'coriander', 'bottled', 'edamame', 'sandwiches', 'romano', 'scotch', 'herbseasoned', 'mccormick', 'crusty', 'zest', 'peanut', 'rosa', 'reblochon', 'butterfinger', 'mahi', 'aluminum', 'smoke', 'blueberry', 'vegetable', 'hormel', 'sweetcorn', 'acini', 'browning', 'multigrain', 'meat', 'vinaigrette', 'balance', 'tip', 'gingerbread', 'unsifted', 'peppadew', 'burgers', 'gouda', 'nutritional', 'young', 'caps', 'indian', 'herbal', 'petal', 'soft', 'instant', 'vidalia', 'fat', 'shanks', 'lean', 'shredded', 'mung', 'cider', 'pillsbury', 'lowsodium', 'mesquite', 'chutney', 'wellfleet', 'minute', 'energ', 'peel', 'chocolate', 'stick', 'kidney', 'capsicum', 'bag', 'root', 'citrusinfused', 'a', 'of', 'bouillon', 'gemelli', 'focaccia', 'peking', 'jaggery', 'secrets', 'triscuits', 'cookie', 'strips', 'i', 'mexicanstyle', 'serve', 'pickled', 'pepe', 'transfat', 'bone', 'lowmoisture', 'chickpea', 'kitchen', 'birds', 'ale', 'shoe', 'blood', 'eggs', 'kielbasa', 'sage', 'sheets', 'tasty', 'self', 'english', 'simply', 'vegan', 'potatoes', 'tapioca', 'tortellini', 'beverage', 'sticks', 'wooden', 'half', 'mayonnaise', 'wrappers', 'blackberries', 'gummy', 'bonito', 'anchovies', 'smooth', 'sunburst', 'pinhead', 'broiler', 'molasses', 'chachere27s', 'mint', 'vanilla', 'cake', 'brewed', 'potato', 'request', 'citric', 'digestive', 'roti', 'homestyle', 'glutinous', 'glutenfree', 'selfrising', 'bars', 'edam', 'bean', '9625', 'uncooked', 'baharat', 'campbell27s', 'breast', 'chia', 'sundae', 'hickory', 'inch', 'pistachio', 'piece', 'fava', 'grapefruit', 'pectin', 'cracked', 'maggi', 'lentils', 'peanuts', 'wild', 'spiral', 'rau', 'suey', 'peppercorns', 'snails', 'pepper', 'scapes', 'fruits', 'lumpia', 'parchment', 'baguette', 'finely', 'pimiento', 'stem', 'crumbs', 'pernod', 'tang', 'king', 'wensleydale', 'sprigs', 'san', 'cicadas', 'bath', 'extract', 'di', 'anise', 'poupon', 'tasso', 'godiva', 'leaf', 'chorizo', 'fig', 'caesar', 'albacore', 'extrasharp', 'rennet', 'dayold', 'farmer', 'venison', 'menthe', 'escarole', 'catsup', 'lime', 'bonnet', 'tea', 'pineapple', 'rolled', 'gnocchi', 'suet', 'bulk', 'marinade', 'flank', 'yogurtcovered', 'tostadas', 'panko', 'nutella', 'stilton', 'kaiser', 'fullfat', 'kingfish', 'cakes', '225', 'psyllium', 'hines', 'sprite', 'gianduja', 'stale', 'wrapper', 'chop', 'walnuts', 'twine', 'sugarfree', 'drummettes', 'cubes', 'curacao', 'cooking', 'serrano', 'frisee', 'halvah', 'textured', 'braggs', 'smith', 'a1', 'glaze', 'potatoes26reg3b', 'grand', 'oatrim', 'citron', 'protein', 'risotto', 'collard', 'cuban', 'oranges', 'clamato', 'corned', 'wafer', 'buttery', 'peppercorn', 'persian', 'whey', 'scrambler', 'port', 'salad', 'cold', 'spray', 'shank', 'safflower', 'blackberry', 'cranberry', '6825', 'forest', 'nosaltadded', 'hidden', 'chocolates', 'lard', 'dogs', 'herbes', 'tiger', 'colbymonterey', 'food', 'kale', 'twist', 'rice', 'goldfish', 'creamer', 'fish', 'pudding', 'apricots', 'dulce', 'chianti', 'bacon', 'rye', 'stripe', 'baguettes', 'unbaked', 'baking', 'captain', 'crisp', 'polish', 'fontinella', 'tia', 'penne', 'camembert', 'links', 'creole', 'hardboiled', 'amino', 'candied', 'arbol', 'gamba', 'flowers', 'chayote', 'biscuit', 'cereal', 'orange2c', 'pan', 'sprig', 'basil', 'bicarbonate', 'flatleaf', 'ruby', 'bengal', 'rigatoni', 'squirrels', 'real', 'msg', 'parma', 'ribs', 'channa', 'squash', 'puffed', 'millet', 'fast', 'blackstrap', 'peas', 'dried', 'fusilli', 'meyer', 'granulated', 'american', 'monkfish', 'butterflied', 'sriracha', 'niblet', 'gumbo', 'farm', 'blanc', 'canes', 'it27s', 'crumbled', 'alphabet', 'with', 'stout', 'winter', 'dates', 'coco', 'kefir', 'montreal', 'juice', 'archer', 'skim', 'grilling', 'buckwheat', 'gingersnap', 'pesto', 'stove', 'fillets', 'crystallized', 'base', 'farfel', 'purpose', 'bugles', 'doritos', 'cornichons', 'chablis', '9825', 'jarlsberg', 'grilled', 'from', 'curlyleaf', 'tacoseasoned', 'hock', 'country', 'asafoetida', 'blossom', 'cashews', 'navel', 'frankfurters', 'rubbed', 'steel', 'chevre', 'sour', 'kraft', 'caramel', 'snake', 'goat27s', 'shoulder', 'rosemary', 'graham', 'cane', 'craisins', 'sec', 'seasons', 'peach', 'energy', 'poundcake', 'elbow', 'passion', 'tops', 'parmesan', 'pop', 'chocolateflavor', 'cubanelle', 'allbran', 'chilies', 'banane', 'jus', 'stevia', 'snickers', 'active', 'plump26reg3b', 'cones', 'french', 'lopez', 'wraps', 'flageolet', 'lemons', 'bacardi', 'butter', 'radish', 'flavoring', 'clementines', 'ovaltine', 'fettuccine', 'rabbits', 'flat', 'tater', 'hazelnuts', 'longhorn', 'steamer', 'mccormickc2ae', 'portabella', 'papayas', 'mandarin', 'masa', 'couscous', 'vegetarian', 'goose', 'margarine', 'midori', 'racks', 'veggie', 'brownie', 'pinot', 'apricot', 'queso', 'hominy', 'leg', 'cayenne', 'tender', 'link', 'cherries', 'harina', 'file', 'habanero', 'pepperoncini', 'natvia', 'cantaloupe', 'morsels', 'broken', 'chunky', 'tricolor', 'bay', 'flakey', 'crunch', 'whipping', 'unsulphured', 'frosting', 'stuffed', 'raspberry', 'nam', 'mediumsized', 'grits', 'pink', 'sifted', 'asparagus', 'pure', 'caraway', 'savoy', 'fire', 'brioche', 'cacao', 'morton27s', 'sweetened', 'pepitas', 'diet', 'shoepeg', 'foil', 'lavash', 'fresh', 'burger', 'chive', 'sections', 'shallot', 'raising', 'peg', 'cod', 'shiitake', 'hummus', 'squares', 'galangal', 'seltzer', 'eye', 'strip', 'frangelico', 'bocconcini', 'can27t', 'roquefort', 'shoyu', 'patties', 'spring', 'hersheys', 'fontina', 'fraiche', 'free', 'cellophane', 'readytoserve', 'meal', 'frogs', 'gherkin', 'ritz', 'greek', 'consomme', 'elderflower', 'jicama', 'compote', 'paint', 'cheezit', 'buttered', 'dream', 'gold27n', 'backfin', 'mince', 'topping', 'concentrate', 'jumbo', 'key', 'quark', 'crayfish', 'breadcrumbs', 'guava', 'top', 'grapeseed', 'muffin', 'mars', 'cashew', 'shell', '6inch', 'hardcooked', 'el', 'apples', 'fenugreek', 'marmalade', 'bits', 'original', 'kabocha', 'pack', 'skinless', 'pancake', 'product', 'emeril27s', 'beetroots', 'andouille', 'radishes', 'barrel', 'brinecured', 'galanga', 'unflavored', 'bulb', 'eggnog', 'hass', 'miracle', 'carob', 'yellow', 'duncan', 'boston', 'alfalfa', 'eggplants', 'mediumdry', 'catalina', 'shake', 'granola', 'plum', 'halva', 'refried', 'refrigerated', 'roast', 'not', 'au', 'pralines', 'comfort', 'tenderizer', 'whole', 'jack', 'bagels', 'broccolini', 'carrot', 'ginger', 'lemonlime', 'lemonade', 'artichokes', 'papaya', 'clove', 'crushed', 'tenderloins', 'dryroasted', '9grain', 'ditali', 'goya', 'corkscrew', 'beefsteak', 'navy', 'parts', 'ricotta', 'stuffing', 'oranges2c', 'macaroons', 'ragc3bac2ae', 'ranch', 'herbs', 'oysters', 'house', 'marjoram', 'choy', 'chickpeas', 'time', 'tangerine', 'string', 'miniature', 'candies', 'kikkoman', 'orangeflavored', 'croutons', 'citrus', 'nutter', 'french27s', 'steamed', 'lowcarb', 'heinz26reg3b', 'center', 'pancetta', 'dill', 'xxxx', 'unrefined', 'gelling', 'chunk', 'canned', 'stems', 'heart', 'starters', 'hen', 'heavy', 'hollandaise', 'cubed', 'hungarian', 'filet', 'granules', 'cutlets', 'cajunstyle', 'jel', 'kernels', 'kiwi', 'bamboo', 'buds', 'flakes', 'cutlet', 'lingonberries', 'lan', 'dijonstyle', 'haricots', 'without', 'mix', 'liquid', 'punch', 'shavings', 'brie', 'toffee', 'flax', 'bulbs', 'pigeon', 'breakfast', 'raw', 'watermelon', 'prunes', 'table', 'grainy', 'mustard', 'boursin', 'simple', 'freshly', 'mini', 'pancakes', 'small', 'nectarines', 'peppers', 'umeboshi', 'seafood', 'browns', 'dairyfree', 'figs', 'familysize', 'wafers', 'ring', 'cognac', 'minestrone', 'colored', 'zesty', 'mrs', 'mitsuba', 'sharp', 'laughing', 'spicy', 'and', 'lawrys', 'farms', 'discos', 'spear', 'pine', 'sherry', 'crusts', 'picante', 'maraschino', 'haddock', 'great', 'shortening', 'lightly', 'gras', 'emmenthaler', 'full', 'soda', 'vital', 'dutchprocessed', 'germ', 'sausages', 'vermicelli', 'egg', 'herb', 'gravy', 'broilerfryer', 'the', 'pimientos', 'cambozola', 'eggplant', 'thick', 'paraffin', 'mango', 'legs', 'honeyroasted', 'truffle', 'pretzel', 'shimeji', 'brussels', 'teff', 'short', 'farms26reg3b', 'kirby', 'kombu', 'sea', 'rhubarb', 'your', 'freerange', 'roux', 'vodka', 'loin', 'cachous', 'chestnut', 'spears', 'valley', 'greens', 'arugula', 'orange', 'grease', 'good', 'havarti', 'guinness', 'worms', 'xylitol', 'sweetandsour', 'amaretti', 'gluten', 'bran', '151', 'berry', 'noodles', 'angel', 'ground', 'halfandhalf', 'chiliflavored', 'bitter', 'calamari', 'seedless', 'nori', 'evaporated', 'sprout', 'deer', 'garni', 'hot', '9325', 'prime', 'cob', 'tropical', 'ketjap', 'lettuce', 'pickling', 'bermuda', 'wasabi', 'blanched', 'sheep27s', 'rising', 'cheerios', 'cool', 'pumpernickel', 'cabbage', 'rotelle', 'fennel', 'breadcrumb', 'tenderloin', 'spiced', 'amaretto', 'rib', 'drink', 'purple', 'wax', 'artichoke', 'bar', 'lingonberry', 'floret', 'mcintosh', 'rotel', 'salt', 'szechuan', 'fillet', 'coffee', 'gelatin', 'powdered', 'turbinado', 'sherbet', 'meatballs', 'crisco', 'canning', 'pork', 'shoot', 'balm', 'countrystyle', 'kraft26reg3b', 'triscuit', 'salami', 'hijiki', 'swordfish', 'back', 'limeade', 'large'}\n"
          ]
        }
      ]
    },
    {
      "cell_type": "code",
      "source": [
        "linked_list_data = dict()\n",
        "for word in unique_words_all:\n",
        "    linked_list_data[word] = SlinkedList()\n",
        "    linked_list_data[word].head = Node(1,Node)\n",
        "word_freq_in_doc = dict()\n",
        "for idx, ingre_lst in enumerate(ingredients):\n",
        "  words = []\n",
        "  for ingre in ingre_lst:\n",
        "    ingre = ingre[1:-1] # remove apostrophe\n",
        "    ingre = remove_special_characters(ingre).lower()\n",
        "    for word in ingre.split():\n",
        "      words.append(word)\n",
        "  word_freq_in_doc = find_words_freq(words)\n",
        "  for word in word_freq_in_doc.keys():\n",
        "      linked_list = linked_list_data[word].head\n",
        "      while linked_list.nextval is not None:\n",
        "          linked_list = linked_list.nextval\n",
        "      linked_list.nextval = Node(idx ,word_freq_in_doc[word])"
      ],
      "metadata": {
        "id": "IHZ196uUmnS8"
      },
      "execution_count": 157,
      "outputs": []
    },
    {
      "cell_type": "code",
      "source": [
        "import time\n",
        "start = time.time()\n",
        "query = input('Enter your query:')\n",
        "query = word_tokenize(query)\n",
        "connecting_words = []\n",
        "cnt = 1\n",
        "different_words = []\n",
        "for word in query:\n",
        "    if word.lower() != \"and\" and word.lower() != \"or\" and word.lower() != \"not\":\n",
        "        different_words.append(word.lower())\n",
        "    else:\n",
        "        connecting_words.append(word.lower())\n",
        "print(connecting_words)\n",
        "total_dishes = len(ingredients)\n",
        "zeroes_and_ones = []\n",
        "zeroes_and_ones_of_all_words = []\n",
        "for word in (different_words):\n",
        "    if word.lower() in unique_words_all:\n",
        "        zeroes_and_ones = [0] * total_dishes\n",
        "        linkedlist = linked_list_data[word].head\n",
        "        print(word)\n",
        "        while linkedlist.nextval is not None:\n",
        "            zeroes_and_ones[linkedlist.nextval.doc - 1] = 1\n",
        "            linkedlist = linkedlist.nextval\n",
        "        zeroes_and_ones_of_all_words.append(zeroes_and_ones)\n",
        "    else:\n",
        "        print(word,\" not found\")\n",
        "        sys.exit()\n",
        "# print(zeroes_and_ones_of_all_words)\n",
        "for word in connecting_words:\n",
        "    word_list1 = zeroes_and_ones_of_all_words[0]\n",
        "    word_list2 = zeroes_and_ones_of_all_words[1]\n",
        "    if word == \"and\":\n",
        "        bitwise_op = [w1 & w2 for (w1,w2) in zip(word_list1,word_list2)]\n",
        "        zeroes_and_ones_of_all_words.remove(word_list1)\n",
        "        zeroes_and_ones_of_all_words.remove(word_list2)\n",
        "        zeroes_and_ones_of_all_words.insert(0, bitwise_op);\n",
        "    elif word == \"or\":\n",
        "        bitwise_op = [w1 | w2 for (w1,w2) in zip(word_list1,word_list2)]\n",
        "        zeroes_and_ones_of_all_words.remove(word_list1)\n",
        "        zeroes_and_ones_of_all_words.remove(word_list2)\n",
        "        zeroes_and_ones_of_all_words.insert(0, bitwise_op);\n",
        "    elif word == \"not\":\n",
        "        bitwise_op = [not w1 for w1 in word_list2]\n",
        "        bitwise_op = [int(b == True) for b in bitwise_op]\n",
        "        zeroes_and_ones_of_all_words.remove(word_list2)\n",
        "        zeroes_and_ones_of_all_words.remove(word_list1)\n",
        "        bitwise_op = [w1 & w2 for (w1,w2) in zip(word_list1,bitwise_op)]\n",
        "zeroes_and_ones_of_all_words.insert(0, bitwise_op);\n",
        " \n",
        "# print(zeroes_and_ones_of_all_words)\n",
        "lis = zeroes_and_ones_of_all_words[0]\n",
        "for i in range(len(lis)):\n",
        "  if lis[i] == 1:\n",
        "    print('Dish name:', df2.iloc[i]['name'])\n",
        "    print('Dish id:',i)\n",
        "    print('Dish steps:',df2.iloc[i]['steps']+'\\n')\n",
        "end = time.time()\n",
        "print('Runtime{: .4f}s'.format(end-start))"
      ],
      "metadata": {
        "colab": {
          "base_uri": "https://localhost:8080/"
        },
        "id": "4uJaV2MzB0qD",
        "outputId": "f6a199ab-fbfe-43a4-9b68-4fa48cbfaaaa"
      },
      "execution_count": 170,
      "outputs": [
        {
          "output_type": "stream",
          "name": "stdout",
          "text": [
            "Enter your query:rice and pork\n",
            "['and']\n",
            "rice\n",
            "pork\n",
            "Dish name: Sunflower Seed Brittle\n",
            "Dish id: 291\n",
            "Dish steps: ['Butter a large baking sheet; set aside.', 'Melt butter in small saucepan.', 'Add seeds and salt and mix well.', 'Keep warm.', 'Melt sugar in heavy skillet over medium heat, stirring constantly.', 'When sugar is golden brown, quickly stir in warm seeds.', 'Pour out onto baking sheet and spread with wooden spoon or spatula into 10\" square.', 'Let cool until firm.', 'Break into pieces and store in air-tight container in a cool, dry place.']\n",
            "\n",
            "Dish name: Waffles With Cinnamon Fruit Sauce\n",
            "Dish id: 1603\n",
            "Dish steps: ['Heat waffles as directed on pkg.', 'Meanwhile, in medium sauacepan, combine all remaining ingredients except orange segments; mix well.', 'Cook over medium heat for 5 to 7 minutes or until mixture comes to a boil and thickens, stirring frequently.', 'Fold in orange segments.', 'Serve warm fruit sauce over waffles.']\n",
            "\n",
            "Dish name: Sausage-Stuffed Zucchini\n",
            "Dish id: 1769\n",
            "Dish steps: ['Preheat oven to 350°F.', 'Place zucchini halves in large saucepan, weigh them down with a small plate so they will cook evenly, and cover with boiling water.', 'Over moderately low heat, simmer for six to eight minutes or until the zucchini are almost tender. Drain and refresh under cold running water.', 'With a spoon, scoop the pulp from the zucchini, leaving 1/4\" border all around.', 'Chop the pulp coarsely, transfer to a sieve, and press with the back of a spoon to extract any excess liquid; set pulp aside. Invert the zucchini on paper towelling to drain.', 'Remove and discard sausage casings, break up the meat and saute in a 10-in. skillet over moderate heat for five minutes. Add the onion, parsley, basil and marjoram; cook five minutes more or until the onion is soft.', 'Remove from the heat, add the bread crumbs, two tablespoons of the Parmesan cheese, salt and pepper.', 'Add some, or all, of the zucchini pulp to the mixture.', 'Mix the egg with the stuffing mixture and fill the zucchini boats with equal amounts of the stuffing.', 'Place the zucchini boats in a 9\" x 13\" x 2\" baking dish and sprinkle with the remaining two tablespoons Parmesan cheese.', 'Bake, uncovered, for 35 to 45 minutes or until the zucchini are heated through and the filling has a lightly browned crust.']\n",
            "\n",
            "Dish name: Shrewsbury Cakes\n",
            "Dish id: 1942\n",
            "Dish steps: ['Preheat oven to 350F and grease cookie sheets.', 'Cream butter and sugar; add vanilla, salt and egg and blend well.', 'Add flour.', 'Chill.', 'Roll out 1/8\" thick and cut with a cookie cutter.', 'Place on prepared cookie sheet and tuck a single piece of shredded citron in the center of each cookie.', 'Bake for about 12 minutes.']\n",
            "\n",
            "Dish name: Haggis Loaf\n",
            "Dish id: 2265\n",
            "Dish steps: ['Heat oven to 350°F.', 'Grease an 8½ by 4½ inch loaf pan.', 'In a food processor fitted with the chopping blade, process together half of the lamb, the liver, water, onion, egg, salt, pepper, sugar, ginger, cloves, and nutmeg until well combined.', 'Add the remaining half of the lamb and the oats, and process again until well combined.', 'Spoon the lamb mixture into the greased pan and pat the surface to level it.', 'Bake for 45 to 55 minutes or until center feels firm when gently pressed.', 'Cool for 5 minutes in the pan, and then turn out onto a hot serving platter; slice and serve with bashed neeps and tatties.', \"***Just like its distant American cousin, the meatloaf, haggis loaf freezes very well after it's cooked- I recommend freezing it in individual serving-size slices.\"]\n",
            "\n",
            "Dish name: Swedish &quot;meat&quot; Balls With Gravy (Vegan)\n",
            "Dish id: 2267\n",
            "Dish steps: ['In a medium bowl combine the breadcrumbs with the soy or rice milk.  Set aside.  Heat up the vegetable broth in a pyrex measuring cup and then add in the dry TVP.  Mix together well and let the TVP absorb for a few minutes.  While that sits, dice up your onion.', 'Mix together the breadcrumb mixture with the TVP, about 2 tbsp of the onion. the parlsey flakes, garlic powder, nutmeg, salt and pepper.  Adjust the salt to taste as it will really depend on how seasoned your veggie broth is.  You want the mixture to hold together when formed into a ball in your hand - you may need to add a little extra broth, maybe a few tablespoons.  I find pushing down with the spoon as you mix helps to combine everything.  Form into balls, 1 1/2 inches in diameter (should yield 12).', 'Heat up the oil in a saute pan, add in the \"meat\" balls and brown on all sides as best you can.  When complete, place them into a casserole dish and set aside.', 'Put your oven on to 350 degrees.', 'Clean out your saute pan of any bits and then return to medium heat.  Saute the rest of the onion and the mushrooms for about 5 minutes until the onions are translucent.', \"In a bowl whisk together 1/3 cup soy creamer (or more if you choose) with the corn starch.  Mix in 1 1/2 cups veggie broth, or less if you're using more creamer, along with the nutritional yeast and a pinch of nutmeg.\", 'Pour the broth mixture into the pan with mushrooms &amp; onions, bring up to a gentle boil, stirring well to get a smooth sauce.  Turn heat down and let it simmer for just a few minutes. Add in some braggs for flavour or colour if you choose.', 'Pour the gravy over the meatballs and bake in the oven for about 20 minutes until bubbly.  Serve over noodles or mashed potatoes.']\n",
            "\n",
            "Dish name: Mushroom Bacon Pie\n",
            "Dish id: 2344\n",
            "Dish steps: ['Saute mushrooms, bacon, garlic and parsley in oil until mushrooms are tender.', 'Drain and cool for 10 minutes.', 'Combine eggs, cheese and seasonings and mix well.', 'Stir into mushroom mixture and pour into pie shell.', 'Bake at 350° for 30 minutes.']\n",
            "\n",
            "Dish name: Veggie Crumble Tacos\n",
            "Dish id: 2498\n",
            "Dish steps: ['Warm veggie crumbles crumbles in sauté pan with the oil.', 'Add water and taco seasoning to crumbles and bring to a boil.', 'Simmer and stir until desired consistency is reached.', 'Dice tomatoes, green onions,shred cheese, and shred lettuce, all to desired amounts as you know how your family eats.', 'Spoon some crumbles into shell or tortilla, and top tomato, lettuce, cheese and salsa.', 'Wrap it up if using the tortillas.']\n",
            "\n",
            "Dish name: French Spaghetti\n",
            "Dish id: 2552\n",
            "Dish steps: ['Cook the spaghetti according to package directions; drain.', 'In a skillet, cook green peppers and onions in the 2 tablespoons butter until tender. Stir in undrained tomatoes and bring to boiling. Reduce heat and simmer, uncovered, for 15 minutes. Stir in the mushrooms and olives.', 'Meanwhile, for white sauce, in a medium saucepan, melt the 1 tablespoon butter. Stir in flour and salt. Add the whipping cream and milk all at once. Cook and stir until thickened and bubbly. Remove from heat.', 'To assemble, arrange spaghetti in an 8x8x2-inch baking dish. Top with white sauce, followed by the tomato-mushroom sauce. Sprinkle with Parmesan cheese.', 'Bake, uncovered, in a 350 degree F oven for about 25 minutes or until heated through.']\n",
            "\n",
            "Dish name: Greeny's Quick and Easy Thai-Ish Ramen Noodle Bowl\n",
            "Dish id: 3194\n",
            "Dish steps: ['Cook the Ramen noodles as directed without the seasoning packet (but save the packet), then drain them.', 'Meanwhile, mix together the peanut butter, half of the seasoning packet, soy sauce, chili-garlic sauce (or sriracha), and add enough (about 2-3 Tablespoons) hot water to get it to a saucy consistency.', 'Coat the noodles with the sauce, add any optional veggies, and stir.', 'Top with the coconut flakes and enjoy!']\n",
            "\n",
            "Dish name: Feta, Spinach and Sweet Potato Wrap\n",
            "Dish id: 3390\n",
            "Dish steps: [\"I do this in the food processor, but mostly it's also easy by hand.\", 'Chop the spinach and the feta cheese together so they form an evenly blended mass.', 'Peel and chop the sweet potatoes and put them in water to cover.', 'Bring to the boil, and cook until just tender.', 'Dice the bell peppers and onion and set aside.', 'When the potatotes are done, drain and stir in the spread and the curry spices, basil, garlic powder and sweetener. Season with salt and pepper.', 'Spread the spinach and feta mix on the tortillas, dividing it evenly and making a flat bed.', 'Place the potato chunks on top spreading them out.', 'Top with the diced peppers and onion.', 'Fold in the sides of the tortilla toward the middle, leaving about 1/3 open space in the middle (no the sides do not touch). Fold the bottom third over the two sides and then continue on folding until the tortilla is closed.', 'Tuck in loose side edges.', 'Bake in the oven at 425F until the tortillas brown and puff.', 'Serve after a brief cooling as a hefty lunch.']\n",
            "\n",
            "Dish name: Whole Wheat Carrot Cake Pancakes\n",
            "Dish id: 3737\n",
            "Dish steps: ['In a large mixing bowl, whisk together th flour, cinnamon, baking powder and salt.', 'Whisk in the milk, egg, applesauce, maple syrup, and melted butter.  Fold in the grated carrots.', 'Cook pancakes on hot, greased griddle.  Repeat until all batter is used.', 'To make cream cheese syrup, whisk together equal parts of maple syrup and cream cheese and add a dash or two of cinnamon.  Pour over hot pancakes.', 'Serve Whole Wheat Carrot Cake Pancakes &amp; Cream Cheese Maple Syrup with a side of sausage, scrambled eggs and fresh fruit.']\n",
            "\n",
            "Dish name: Black Walnut Pound Cake\n",
            "Dish id: 4095\n",
            "Dish steps: ['Preheat oven to 300.', 'Grease and flour tube pan.', 'I start at the top and add all items on list one by one until I have it all in the bowl and mix until smooth.', 'Bake for 1 hour 35 minutes or until cake tests done.', 'Remove from oven and let set 10 minutes.', 'Remove cake from pan and let it cool completely.', 'Butter Cream Frosting:', 'Soften margarine and cream cheese. mix together all ingredients except nuts.Add flavoring last.If mixture is too thick to spread add a few drops of water. Apply to cake then sprinkle with nuts.']\n",
            "\n",
            "Dish name: Cranberry-Apple Spice Muffins (Gluten Free)\n",
            "Dish id: 4693\n",
            "Dish steps: ['Preheat oven to 350 degrees. Grease or line two muffin pans (I like to do one regular 12 cup muffin pan and one large 6 cup muffin pan, this also works in a small loaf pan).', 'In a medium sized bowl stir together the filling ingredients.', 'In large bowl, mix together dry ingredients using a wire whisk. Stick your nose in and smell all the spices!', 'In a mixer, beat the eggs, then add the rest of the wet ingredients and mix well. (TIP: To keep the molasses from sticking to your tablespoon, rub a drop of oil in the inside and around the edges and it will slide right off!).', 'Turn mixer on low speed and add the dry mix a little bit at a time, mixing after each addition. Put mixer on medium-high speed and mix for about 15 seconds.', 'Add the filling ingredients and mix on low for about 15 seconds.', 'Spoon the batter into pans, filling halfway since muffins will double in height (I recommend using a rounded ice cream scoop).', 'Place a walnut in the center of each muffin (Sprinkle on brown sugar or crushed biscotti crumbs if you like).', 'Bake for 20-25 minutes. When done, leave in pans at least 5 minutes before eating.']\n",
            "\n",
            "Dish name: Tangpyeongchae (Mung Bean Jelly Noodles With Vegetables)\n",
            "Dish id: 4936\n",
            "Dish steps: ['In a saucepan, stir 3 cups cold water into the mung bean powder.', 'Set the pan over medium-high heat and cook, stirring, until the mixture thickens and becomes nearly translucent, 3 or 4 minutes. Pour the mixture into a loaf pan. Let cool at room temperature until completely solidified, about 1 hour.', 'Heat 1 tablespoon of the oil in a nonstick skillet over medium-high heat. Add the egg, tilting the pan so the egg covers the surface in as thin a layer as possible. Cook until it’s just set, about 1 minute, then carefully flip the omelet over and cook for another minute. Slip the omelet onto a plate and let it cool.', 'Add the remaining 1 tablespoon oil to the same pan and heat over medium-high heat. Add the mushrooms and cook, stirring now and then, until browned and softened, about 6 minutes. Set aside. Slice the cooled egg omelet into thin ribbons and set aside.', 'Turn the mung bean jelly out of the loaf pan onto a cutting board. Cut the jelly crosswise into thin slices as if it were a loaf of bread, then cut each slice lengthwise into noodles. In a large bowl, whisk together the soy sauce, vinegar, red pepper powder, scallions, and garlic. Add the mung bean noodles, cucumber, radishes, ginger, and sprouts to the bowl and toss gently to combine. Garnish the noodles with the reserved egg ribbons and shiitakes.']\n",
            "\n",
            "Runtime 3.6459s\n"
          ]
        }
      ]
    },
    {
      "cell_type": "markdown",
      "source": [
        "## Evaluation"
      ],
      "metadata": {
        "id": "Na8qOVoi-FLX"
      }
    },
    {
      "cell_type": "code",
      "source": [
        "# Time\n",
        "print('Runtime{: .4f}s'.format(end-start))"
      ],
      "metadata": {
        "colab": {
          "base_uri": "https://localhost:8080/"
        },
        "id": "9z4J5Fn1AXtu",
        "outputId": "58239062-0bad-48d3-c158-feceb282fc8c"
      },
      "execution_count": 169,
      "outputs": [
        {
          "output_type": "stream",
          "name": "stdout",
          "text": [
            "Runtime 4.1361s\n"
          ]
        }
      ]
    },
    {
      "cell_type": "code",
      "source": [
        "import numpy as np\n",
        "\n",
        "def precision_at_k(r, k):\n",
        "    \"\"\"Score is precision @ k \n",
        "    Args:\n",
        "        r: Relevance scores (list or numpy) in rank order\n",
        "            (first element is the first item)\n",
        "    Returns:\n",
        "        Precision @ k\n",
        "\n",
        "    Raises:\n",
        "        ValueError: len(r) must be >= k\n",
        "    \"\"\"\n",
        "    assert k >= 1\n",
        "    r = np.asarray(r)[:k] != 0\n",
        "    if r.size != k:\n",
        "        raise ValueError('Relevance score length < k')\n",
        "    return np.mean(r)\n",
        "\n",
        "\n",
        "def average_precision(r):\n",
        "    \"\"\"Score is average precision (area under PR curve)\n",
        "    Args:\n",
        "        r: Relevance scores (list or numpy) in rank order\n",
        "            (first element is the first item)\n",
        "    Returns:\n",
        "        Average precision\n",
        "    \"\"\"\n",
        "\n",
        "    #write your code here\n",
        "    if sum(r) == 0:\n",
        "        return 0\n",
        "    avg_p = sum([precision_at_k(r,x+1) for x, y in enumerate(r) if y] )/sum(r)\n",
        "    return avg_p\n",
        "\n",
        "\n",
        "def mean_average_precision(rs):\n",
        "    \"\"\"Score is mean average precision\n",
        "    Args:\n",
        "        rs: Iterator of relevance scores (list or numpy) in rank order\n",
        "            (first element is the first item)\n",
        "    Returns:\n",
        "        Mean average precision\n",
        "    \"\"\"\n",
        "\n",
        "    #write your code here\n",
        "    m_avg_p = np.mean([average_precision(r) for r in rs])\n",
        "\n",
        "    return m_avg_p\n"
      ],
      "metadata": {
        "id": "KOMTh48eCCYp"
      },
      "execution_count": 145,
      "outputs": []
    },
    {
      "cell_type": "code",
      "source": [
        ""
      ],
      "metadata": {
        "id": "I6yRdzYqZUwS"
      },
      "execution_count": 145,
      "outputs": []
    }
  ]
}